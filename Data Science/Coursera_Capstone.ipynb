{
  "nbformat": 4,
  "nbformat_minor": 0,
  "metadata": {
    "colab": {
      "name": "Coursera_Capstone.ipynb",
      "provenance": [],
      "authorship_tag": "ABX9TyNnNaHUtpbVXbKK899/AYsh",
      "include_colab_link": true
    },
    "kernelspec": {
      "name": "python3",
      "display_name": "Python 3"
    }
  },
  "cells": [
    {
      "cell_type": "markdown",
      "metadata": {
        "id": "view-in-github",
        "colab_type": "text"
      },
      "source": [
        "<a href=\"https://colab.research.google.com/github/SaguPandya96/Advance-Machine-Learning-/blob/master/Coursera_Capstone.ipynb\" target=\"_parent\"><img src=\"https://colab.research.google.com/assets/colab-badge.svg\" alt=\"Open In Colab\"/></a>"
      ]
    },
    {
      "cell_type": "markdown",
      "metadata": {
        "id": "48foEwu7_pqr",
        "colab_type": "text"
      },
      "source": [
        "**Coursera Capstone**"
      ]
    },
    {
      "cell_type": "markdown",
      "metadata": {
        "id": "JzQGc-VB_vxC",
        "colab_type": "text"
      },
      "source": [
        "# 1. Write some markdown to explain that this notebook will be mainly used for the capstone project.\n"
      ]
    },
    {
      "cell_type": "markdown",
      "metadata": {
        "id": "KfFuLJwpAyBp",
        "colab_type": "text"
      },
      "source": [
        "\n",
        "This notebook will be mainly used for the capstone project for IBM Applied Data Science Capstone course on Coursera.\n",
        "\n",
        "# Hello How are you all..."
      ]
    },
    {
      "cell_type": "code",
      "metadata": {
        "id": "HT_YYjg4-GBs",
        "colab_type": "code",
        "colab": {}
      },
      "source": [
        "# 2. Import the pandas library as pd\n",
        "import pandas as pd"
      ],
      "execution_count": 1,
      "outputs": []
    },
    {
      "cell_type": "code",
      "metadata": {
        "id": "_VSdpN76BBOR",
        "colab_type": "code",
        "colab": {}
      },
      "source": [
        "# 3. Import the Numpy library as np\n",
        "import numpy as np"
      ],
      "execution_count": 2,
      "outputs": []
    },
    {
      "cell_type": "code",
      "metadata": {
        "id": "tgyRrQY0BLLF",
        "colab_type": "code",
        "colab": {
          "base_uri": "https://localhost:8080/",
          "height": 35
        },
        "outputId": "d8b2e792-62b3-492f-80eb-14dfbaf1679b"
      },
      "source": [
        "# 4. Print the following the statement: Hello Capstone Project Course!\n",
        "print(\"Hello Capstone Project Course!\")"
      ],
      "execution_count": 3,
      "outputs": [
        {
          "output_type": "stream",
          "text": [
            "Hello Capstone Project Course!\n"
          ],
          "name": "stdout"
        }
      ]
    }
  ]
}