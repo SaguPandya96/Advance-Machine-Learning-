{
  "nbformat": 4,
  "nbformat_minor": 0,
  "metadata": {
    "kernelspec": {
      "display_name": "Python 3.5",
      "language": "python",
      "name": "python3"
    },
    "language_info": {
      "codemirror_mode": {
        "name": "ipython",
        "version": 3
      },
      "file_extension": ".py",
      "mimetype": "text/x-python",
      "name": "python",
      "nbconvert_exporter": "python",
      "pygments_lexer": "ipython3",
      "version": "3.5.5"
    },
    "colab": {
      "name": "Capstone Project-Location Data.ipynb",
      "provenance": [],
      "collapsed_sections": [],
      "include_colab_link": true
    }
  },
  "cells": [
    {
      "cell_type": "markdown",
      "metadata": {
        "id": "view-in-github",
        "colab_type": "text"
      },
      "source": [
        "<a href=\"https://colab.research.google.com/github/SaguPandya96/Advance-Machine-Learning-/blob/master/Capstone%20Project%20Location%20Data.ipynb\" target=\"_parent\"><img src=\"https://colab.research.google.com/assets/colab-badge.svg\" alt=\"Open In Colab\"/></a>"
      ]
    },
    {
      "cell_type": "code",
      "metadata": {
        "id": "lJz1jm1SutLa",
        "colab_type": "code",
        "colab": {}
      },
      "source": [
        "!conda install -c anaconda beautifulsoup4 \n",
        "!conda install -c anaconda lxml\n",
        "!conda install -c anaconda html5lib\n",
        "!conda install -c anaconda requests"
      ],
      "execution_count": null,
      "outputs": []
    },
    {
      "cell_type": "markdown",
      "metadata": {
        "id": "QhsRhygHutLq",
        "colab_type": "text"
      },
      "source": [
        "### Import required libraries"
      ]
    },
    {
      "cell_type": "code",
      "metadata": {
        "id": "kFjaSZ68utLr",
        "colab_type": "code",
        "colab": {}
      },
      "source": [
        "import requests\n",
        "import pandas as pd\n",
        "website_url = requests.get('https://en.wikipedia.org/wiki/List_of_postal_codes_of_Canada:_M').text\n",
        "from bs4 import BeautifulSoup\n",
        "soup = BeautifulSoup(website_url,'lxml')"
      ],
      "execution_count": null,
      "outputs": []
    },
    {
      "cell_type": "markdown",
      "metadata": {
        "id": "wjdSLyvNutL1",
        "colab_type": "text"
      },
      "source": [
        "### Insert Wikipedia table into variable"
      ]
    },
    {
      "cell_type": "code",
      "metadata": {
        "id": "rmsLsK9iutL3",
        "colab_type": "code",
        "colab": {}
      },
      "source": [
        "My_table = soup.find('table',{'class':'wikitable sortable'}) "
      ],
      "execution_count": null,
      "outputs": []
    },
    {
      "cell_type": "markdown",
      "metadata": {
        "id": "VkDhebbZutMB",
        "colab_type": "text"
      },
      "source": [
        "### Parse table and create dataframe according to the given conditions"
      ]
    },
    {
      "cell_type": "code",
      "metadata": {
        "id": "RcuPCWIUutMD",
        "colab_type": "code",
        "colab": {}
      },
      "source": [
        "table_rows = My_table.find_all('tr')\n",
        "\n",
        "PostCode =[]\n",
        "Borough = []\n",
        "Neighbourhood = []\n",
        "\n",
        "for tr in table_rows:\n",
        "    td = tr.find_all('td')\n",
        "    if (len(td) > 0 and td[1].text != 'Not assigned'): #check if it valid row and if borough!=\"Not Assigned\"\n",
        "        if td[0].text not in PostCode: #if postcode not present before then create new\n",
        "            PostCode.append((td[0].text)) #append postcode in array\n",
        "            a = td[1].find_all('a')\n",
        "            if(len(a) > 0):\n",
        "                Borough.append((((td[1].find('a')).get('title')).split(','))[0]) #append borough in array for hyperlink\n",
        "            else:\n",
        "                Borough.append((((td[1].text)).split(','))[0]) #append borough in array for non-hyperlink\n",
        "            a = td[2].find_all('a')\n",
        "            if(len(a) > 0):\n",
        "                Neighbourhood.append((((td[2].find('a')).get('title')).split(','))[0]) #append neighbourhood in array for hyperlink\n",
        "            else:   #append neighbourhood in array for non-hyperlink\n",
        "                if td[2].text == 'Not assigned\\n': \n",
        "                    Neighbourhood.append(((td[1].text).split(','))[0])#append borough if non assigned\n",
        "                else:\n",
        "                    Neighbourhood.append((td[2].text).replace('\\n', '')) # append neighbourhood if non-hyperlink\n",
        "        else: #if postcode is present in the array\n",
        "            ind = PostCode.index(td[0].text)\n",
        "            a = td[2].find_all('a')\n",
        "            if(len(a) > 0):\n",
        "                testneighbourhood = (((td[2].find('a')).get('title')).split(','))[0] #append neighbourhood in array for hyperlink\n",
        "            else:   #append neighbourhood in array for non-hyperlink\n",
        "                if td[2].text != 'Not assigned\\n':\n",
        "                    testneighbourhood = (td[2].text).replace('\\n', '') # append neighbourhood if non-hyperlink\n",
        "            if Borough[ind] == Neighbourhood[ind]:\n",
        "                Neighbourhood[ind] = testneighbourhood\n",
        "            else:\n",
        "                Neighbourhood[ind] = Neighbourhood[ind] + ', ' + testneighbourhood           \n",
        "        \n",
        "df=pd.DataFrame()\n",
        "df['PostCode'] = PostCode\n",
        "df['Borough'] = Borough\n",
        "df['Neighbourhood'] = Neighbourhood"
      ],
      "execution_count": null,
      "outputs": []
    },
    {
      "cell_type": "markdown",
      "metadata": {
        "id": "NoCxUUrQutMM",
        "colab_type": "text"
      },
      "source": [
        "## DataFrame Shape"
      ]
    },
    {
      "cell_type": "code",
      "metadata": {
        "id": "wXCRChn8utMN",
        "colab_type": "code",
        "colab": {},
        "outputId": "437ba09d-0ea9-4594-bd0f-ccaa507e179d"
      },
      "source": [
        "df.shape"
      ],
      "execution_count": null,
      "outputs": [
        {
          "output_type": "execute_result",
          "data": {
            "text/plain": [
              "(103, 3)"
            ]
          },
          "metadata": {
            "tags": []
          },
          "execution_count": 44
        }
      ]
    },
    {
      "cell_type": "markdown",
      "metadata": {
        "id": "NTqL5EMxutMW",
        "colab_type": "text"
      },
      "source": [
        "### Using geocoder to import latitude and longitude"
      ]
    },
    {
      "cell_type": "code",
      "metadata": {
        "id": "Gr3JXiTlutMY",
        "colab_type": "code",
        "colab": {}
      },
      "source": [
        "!conda install -c conda-forge geocoder "
      ],
      "execution_count": null,
      "outputs": []
    },
    {
      "cell_type": "markdown",
      "metadata": {
        "id": "QMv24JYrutMi",
        "colab_type": "text"
      },
      "source": [
        "### Populate latitude, longitude using geocoder"
      ]
    },
    {
      "cell_type": "code",
      "metadata": {
        "id": "MWaR3yISutMk",
        "colab_type": "code",
        "colab": {}
      },
      "source": [
        "import geocoder # import geocoder\n",
        "\n",
        "# initialize your variable to None\n",
        "lat_lng_coords = None\n",
        "latitude = []\n",
        "longitude = []\n",
        "\n",
        "for index, row in df.iterrows():\n",
        "    # loop until you get the coordinates\n",
        "    while(lat_lng_coords is None):\n",
        "        g = geocoder.google('{}, Toronto, Ontario'.format(row['PostCode']))\n",
        "        lat_lng_coords = g.latlng\n",
        "    latitude.append(g.latlng[0])\n",
        "    longitude.append(g.latlng[1])\n",
        "df['Latitude'] = latitude\n",
        "df['Latitude'] = longitude"
      ],
      "execution_count": null,
      "outputs": []
    },
    {
      "cell_type": "markdown",
      "metadata": {
        "id": "TVKDY36wutMt",
        "colab_type": "text"
      },
      "source": [
        "## Populate latitide, longitude using excel sheet"
      ]
    },
    {
      "cell_type": "code",
      "metadata": {
        "id": "tHehMHC1utMu",
        "colab_type": "code",
        "colab": {}
      },
      "source": [
        "latitude = []\n",
        "longitude = []\n",
        "latlong = pd.read_csv('http://cocl.us/Geospatial_data')\n",
        "#print((latlong.loc[latlong['Postal Code'] == 'M3A'])['Postal Code'])\n",
        "for index, row in df.iterrows():\n",
        "    templatlong = latlong[latlong['Postal Code'].str.match(row['PostCode'])]\n",
        "    latitude.append((templatlong['Latitude'].values)[0])\n",
        "    longitude.append((templatlong['Longitude'].values)[0])\n",
        "df['Latitude'] = latitude\n",
        "df['Longitude'] = longitude"
      ],
      "execution_count": null,
      "outputs": []
    },
    {
      "cell_type": "markdown",
      "metadata": {
        "id": "H_F3AeJCutM5",
        "colab_type": "text"
      },
      "source": [
        "# Clustering Toronto Data"
      ]
    },
    {
      "cell_type": "markdown",
      "metadata": {
        "id": "u_983yQQutM7",
        "colab_type": "text"
      },
      "source": [
        "### Creating a dataframe with borough's in Toronto"
      ]
    },
    {
      "cell_type": "code",
      "metadata": {
        "id": "66z_rr3mutM9",
        "colab_type": "code",
        "colab": {},
        "outputId": "8a7ad412-2532-4d8d-9c52-e75e56a59c72"
      },
      "source": [
        "toronto_data = df[df['Borough'].str.contains('Toronto')].reset_index(drop=True)\n",
        "toronto_data.head()"
      ],
      "execution_count": null,
      "outputs": [
        {
          "output_type": "execute_result",
          "data": {
            "text/html": [
              "<div>\n",
              "<style scoped>\n",
              "    .dataframe tbody tr th:only-of-type {\n",
              "        vertical-align: middle;\n",
              "    }\n",
              "\n",
              "    .dataframe tbody tr th {\n",
              "        vertical-align: top;\n",
              "    }\n",
              "\n",
              "    .dataframe thead th {\n",
              "        text-align: right;\n",
              "    }\n",
              "</style>\n",
              "<table border=\"1\" class=\"dataframe\">\n",
              "  <thead>\n",
              "    <tr style=\"text-align: right;\">\n",
              "      <th></th>\n",
              "      <th>PostCode</th>\n",
              "      <th>Borough</th>\n",
              "      <th>Neighbourhood</th>\n",
              "      <th>Latitude</th>\n",
              "      <th>Longitude</th>\n",
              "    </tr>\n",
              "  </thead>\n",
              "  <tbody>\n",
              "    <tr>\n",
              "      <th>0</th>\n",
              "      <td>M5A</td>\n",
              "      <td>Downtown Toronto</td>\n",
              "      <td>Harbourfront (Toronto), Regent Park</td>\n",
              "      <td>43.654260</td>\n",
              "      <td>-79.360636</td>\n",
              "    </tr>\n",
              "    <tr>\n",
              "      <th>1</th>\n",
              "      <td>M7A</td>\n",
              "      <td>Queen's Park (Toronto)</td>\n",
              "      <td>Queen's Park</td>\n",
              "      <td>43.662301</td>\n",
              "      <td>-79.389494</td>\n",
              "    </tr>\n",
              "    <tr>\n",
              "      <th>2</th>\n",
              "      <td>M5B</td>\n",
              "      <td>Downtown Toronto</td>\n",
              "      <td>Ryerson, Garden District</td>\n",
              "      <td>43.657162</td>\n",
              "      <td>-79.378937</td>\n",
              "    </tr>\n",
              "    <tr>\n",
              "      <th>3</th>\n",
              "      <td>M5C</td>\n",
              "      <td>Downtown Toronto</td>\n",
              "      <td>St. James Town</td>\n",
              "      <td>43.651494</td>\n",
              "      <td>-79.375418</td>\n",
              "    </tr>\n",
              "    <tr>\n",
              "      <th>4</th>\n",
              "      <td>M4E</td>\n",
              "      <td>East Toronto</td>\n",
              "      <td>The Beaches</td>\n",
              "      <td>43.676357</td>\n",
              "      <td>-79.293031</td>\n",
              "    </tr>\n",
              "  </tbody>\n",
              "</table>\n",
              "</div>"
            ],
            "text/plain": [
              "  PostCode                 Borough                        Neighbourhood  \\\n",
              "0      M5A        Downtown Toronto  Harbourfront (Toronto), Regent Park   \n",
              "1      M7A  Queen's Park (Toronto)                         Queen's Park   \n",
              "2      M5B        Downtown Toronto             Ryerson, Garden District   \n",
              "3      M5C        Downtown Toronto                       St. James Town   \n",
              "4      M4E            East Toronto                          The Beaches   \n",
              "\n",
              "    Latitude  Longitude  \n",
              "0  43.654260 -79.360636  \n",
              "1  43.662301 -79.389494  \n",
              "2  43.657162 -79.378937  \n",
              "3  43.651494 -79.375418  \n",
              "4  43.676357 -79.293031  "
            ]
          },
          "metadata": {
            "tags": []
          },
          "execution_count": 49
        }
      ]
    },
    {
      "cell_type": "code",
      "metadata": {
        "id": "SQI2E_ZwutNE",
        "colab_type": "code",
        "colab": {},
        "outputId": "e33478aa-a235-4246-e397-550d99f8c3f4"
      },
      "source": [
        "toronto_data_grouped = toronto_data.groupby('Neighbourhood').mean().reset_index()\n",
        "toronto_data_grouped.head()"
      ],
      "execution_count": null,
      "outputs": [
        {
          "output_type": "execute_result",
          "data": {
            "text/html": [
              "<div>\n",
              "<style scoped>\n",
              "    .dataframe tbody tr th:only-of-type {\n",
              "        vertical-align: middle;\n",
              "    }\n",
              "\n",
              "    .dataframe tbody tr th {\n",
              "        vertical-align: top;\n",
              "    }\n",
              "\n",
              "    .dataframe thead th {\n",
              "        text-align: right;\n",
              "    }\n",
              "</style>\n",
              "<table border=\"1\" class=\"dataframe\">\n",
              "  <thead>\n",
              "    <tr style=\"text-align: right;\">\n",
              "      <th></th>\n",
              "      <th>Neighbourhood</th>\n",
              "      <th>Latitude</th>\n",
              "      <th>Longitude</th>\n",
              "    </tr>\n",
              "  </thead>\n",
              "  <tbody>\n",
              "    <tr>\n",
              "      <th>0</th>\n",
              "      <td>Adelaide, King, Richmond</td>\n",
              "      <td>43.650571</td>\n",
              "      <td>-79.384568</td>\n",
              "    </tr>\n",
              "    <tr>\n",
              "      <th>1</th>\n",
              "      <td>Berczy Park</td>\n",
              "      <td>43.644771</td>\n",
              "      <td>-79.373306</td>\n",
              "    </tr>\n",
              "    <tr>\n",
              "      <th>2</th>\n",
              "      <td>Brockton, Exhibition Place, Parkdale Village</td>\n",
              "      <td>43.636847</td>\n",
              "      <td>-79.428191</td>\n",
              "    </tr>\n",
              "    <tr>\n",
              "      <th>3</th>\n",
              "      <td>Business Reply Mail Processing Centre 969 Eastern</td>\n",
              "      <td>43.662744</td>\n",
              "      <td>-79.321558</td>\n",
              "    </tr>\n",
              "    <tr>\n",
              "      <th>4</th>\n",
              "      <td>CN Tower, Bathurst Quay, Island airport, Harbo...</td>\n",
              "      <td>43.628947</td>\n",
              "      <td>-79.394420</td>\n",
              "    </tr>\n",
              "  </tbody>\n",
              "</table>\n",
              "</div>"
            ],
            "text/plain": [
              "                                       Neighbourhood   Latitude  Longitude\n",
              "0                           Adelaide, King, Richmond  43.650571 -79.384568\n",
              "1                                        Berczy Park  43.644771 -79.373306\n",
              "2       Brockton, Exhibition Place, Parkdale Village  43.636847 -79.428191\n",
              "3  Business Reply Mail Processing Centre 969 Eastern  43.662744 -79.321558\n",
              "4  CN Tower, Bathurst Quay, Island airport, Harbo...  43.628947 -79.394420"
            ]
          },
          "metadata": {
            "tags": []
          },
          "execution_count": 50
        }
      ]
    },
    {
      "cell_type": "markdown",
      "metadata": {
        "id": "XjTKDobgutNL",
        "colab_type": "text"
      },
      "source": [
        "### K Means Clustering"
      ]
    },
    {
      "cell_type": "code",
      "metadata": {
        "id": "wURupyC2utNN",
        "colab_type": "code",
        "colab": {},
        "outputId": "219c6b23-fb71-4bba-b045-33a103286a06"
      },
      "source": [
        "# set number of clusters\n",
        "from sklearn.cluster import KMeans\n",
        "kclusters = 5\n",
        "\n",
        "toronto_grouped_clustering = toronto_data_grouped.drop('Neighbourhood', 1)\n",
        "\n",
        "# run k-means clustering\n",
        "kmeans = KMeans(n_clusters=kclusters, random_state=0).fit(toronto_grouped_clustering)\n",
        "\n",
        "# check cluster labels generated for each row in the dataframe\n",
        "kmeans.labels_[0:10] "
      ],
      "execution_count": null,
      "outputs": [
        {
          "output_type": "execute_result",
          "data": {
            "text/plain": [
              "array([2, 2, 4, 1, 2, 2, 2, 4, 4, 2], dtype=int32)"
            ]
          },
          "metadata": {
            "tags": []
          },
          "execution_count": 51
        }
      ]
    },
    {
      "cell_type": "markdown",
      "metadata": {
        "id": "8roPGA_wutNU",
        "colab_type": "text"
      },
      "source": [
        "## Insert cluster information to original dataframe"
      ]
    },
    {
      "cell_type": "code",
      "metadata": {
        "id": "5Y6cr6awutNW",
        "colab_type": "code",
        "colab": {},
        "outputId": "72489dba-720b-4473-d09d-ec2a06e27cf6"
      },
      "source": [
        "toronto_data['Cluster Labels']=kmeans.labels_\n",
        "toronto_data.head()"
      ],
      "execution_count": null,
      "outputs": [
        {
          "output_type": "execute_result",
          "data": {
            "text/html": [
              "<div>\n",
              "<style scoped>\n",
              "    .dataframe tbody tr th:only-of-type {\n",
              "        vertical-align: middle;\n",
              "    }\n",
              "\n",
              "    .dataframe tbody tr th {\n",
              "        vertical-align: top;\n",
              "    }\n",
              "\n",
              "    .dataframe thead th {\n",
              "        text-align: right;\n",
              "    }\n",
              "</style>\n",
              "<table border=\"1\" class=\"dataframe\">\n",
              "  <thead>\n",
              "    <tr style=\"text-align: right;\">\n",
              "      <th></th>\n",
              "      <th>PostCode</th>\n",
              "      <th>Borough</th>\n",
              "      <th>Neighbourhood</th>\n",
              "      <th>Latitude</th>\n",
              "      <th>Longitude</th>\n",
              "      <th>Cluster Labels</th>\n",
              "    </tr>\n",
              "  </thead>\n",
              "  <tbody>\n",
              "    <tr>\n",
              "      <th>0</th>\n",
              "      <td>M5A</td>\n",
              "      <td>Downtown Toronto</td>\n",
              "      <td>Harbourfront (Toronto), Regent Park</td>\n",
              "      <td>43.654260</td>\n",
              "      <td>-79.360636</td>\n",
              "      <td>2</td>\n",
              "    </tr>\n",
              "    <tr>\n",
              "      <th>1</th>\n",
              "      <td>M7A</td>\n",
              "      <td>Queen's Park (Toronto)</td>\n",
              "      <td>Queen's Park</td>\n",
              "      <td>43.662301</td>\n",
              "      <td>-79.389494</td>\n",
              "      <td>2</td>\n",
              "    </tr>\n",
              "    <tr>\n",
              "      <th>2</th>\n",
              "      <td>M5B</td>\n",
              "      <td>Downtown Toronto</td>\n",
              "      <td>Ryerson, Garden District</td>\n",
              "      <td>43.657162</td>\n",
              "      <td>-79.378937</td>\n",
              "      <td>4</td>\n",
              "    </tr>\n",
              "    <tr>\n",
              "      <th>3</th>\n",
              "      <td>M5C</td>\n",
              "      <td>Downtown Toronto</td>\n",
              "      <td>St. James Town</td>\n",
              "      <td>43.651494</td>\n",
              "      <td>-79.375418</td>\n",
              "      <td>1</td>\n",
              "    </tr>\n",
              "    <tr>\n",
              "      <th>4</th>\n",
              "      <td>M4E</td>\n",
              "      <td>East Toronto</td>\n",
              "      <td>The Beaches</td>\n",
              "      <td>43.676357</td>\n",
              "      <td>-79.293031</td>\n",
              "      <td>2</td>\n",
              "    </tr>\n",
              "  </tbody>\n",
              "</table>\n",
              "</div>"
            ],
            "text/plain": [
              "  PostCode                 Borough                        Neighbourhood  \\\n",
              "0      M5A        Downtown Toronto  Harbourfront (Toronto), Regent Park   \n",
              "1      M7A  Queen's Park (Toronto)                         Queen's Park   \n",
              "2      M5B        Downtown Toronto             Ryerson, Garden District   \n",
              "3      M5C        Downtown Toronto                       St. James Town   \n",
              "4      M4E            East Toronto                          The Beaches   \n",
              "\n",
              "    Latitude  Longitude  Cluster Labels  \n",
              "0  43.654260 -79.360636               2  \n",
              "1  43.662301 -79.389494               2  \n",
              "2  43.657162 -79.378937               4  \n",
              "3  43.651494 -79.375418               1  \n",
              "4  43.676357 -79.293031               2  "
            ]
          },
          "metadata": {
            "tags": []
          },
          "execution_count": 52
        }
      ]
    },
    {
      "cell_type": "markdown",
      "metadata": {
        "id": "T-QTN2x3utNe",
        "colab_type": "text"
      },
      "source": [
        "### Importing libraries for maps"
      ]
    },
    {
      "cell_type": "code",
      "metadata": {
        "id": "qXnECuz_utNg",
        "colab_type": "code",
        "colab": {}
      },
      "source": [
        "!conda install -c conda-forge folium=0.5.0 --yes \n",
        "import folium \n",
        "!conda install -c conda-forge geopy --yes \n",
        "from geopy.geocoders import Nominatim"
      ],
      "execution_count": null,
      "outputs": []
    },
    {
      "cell_type": "code",
      "metadata": {
        "id": "g4Lsrb_CutNo",
        "colab_type": "code",
        "colab": {},
        "outputId": "2d8b6570-2db7-4af9-ba37-6ce08de59b58"
      },
      "source": [
        "address = 'Toronto, Ontario'\n",
        "geolocator = Nominatim(user_agent=\"tor_explorer\")\n",
        "location = geolocator.geocode(address)\n",
        "latitude = location.latitude\n",
        "longitude = location.longitude\n",
        "print('The geographical coordinate of Toronto are {}, {}.'.format(latitude, longitude))"
      ],
      "execution_count": null,
      "outputs": [
        {
          "output_type": "stream",
          "text": [
            "The geographical coordinate of Toronto are 43.653963, -79.387207.\n"
          ],
          "name": "stdout"
        }
      ]
    },
    {
      "cell_type": "markdown",
      "metadata": {
        "id": "_fEwVeCiutNw",
        "colab_type": "text"
      },
      "source": [
        "### Plotting clusters on the map"
      ]
    },
    {
      "cell_type": "code",
      "metadata": {
        "id": "_iha2mXPutNy",
        "colab_type": "code",
        "colab": {},
        "outputId": "ab3ebb5d-6ee6-4bf6-fae9-9593d6db28f5"
      },
      "source": [
        "import numpy as np\n",
        "import matplotlib.cm as cm\n",
        "import matplotlib.colors as colors\n",
        "\n",
        "map_clusters = folium.Map(location=[latitude, longitude], zoom_start=11)\n",
        "\n",
        "# set color scheme for the clusters\n",
        "x = np.arange(kclusters)\n",
        "ys = [i + x + (i*x)**2 for i in range(kclusters)]\n",
        "colors_array = cm.rainbow(np.linspace(0, 1, len(ys)))\n",
        "rainbow = [colors.rgb2hex(i) for i in colors_array]\n",
        "\n",
        "# add markers to the map\n",
        "markers_colors = []\n",
        "for lat, lon, poi, cluster in zip(toronto_data['Latitude'], toronto_data['Longitude'], toronto_data['Neighbourhood'], toronto_data['Cluster Labels']):\n",
        "    label = folium.Popup(str(poi) + ' Cluster ' + str(cluster), parse_html=True)\n",
        "    folium.CircleMarker(\n",
        "        [lat, lon],\n",
        "        radius=5,\n",
        "        popup=label,\n",
        "        color=rainbow[cluster-1],\n",
        "        fill=True,\n",
        "        fill_color=rainbow[cluster-1],\n",
        "        fill_opacity=0.7).add_to(map_clusters)\n",
        "       \n",
        "map_clusters"
      ],
      "execution_count": null,
      "outputs": [
        {
          "output_type": "execute_result",
          "data": {
            "text/html": [
              "<div style=\"width:100%;\"><div style=\"position:relative;width:100%;height:0;padding-bottom:60%;\"><iframe src=\"data:text/html;charset=utf-8;base64,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\" style=\"position:absolute;width:100%;height:100%;left:0;top:0;border:none !important;\" allowfullscreen webkitallowfullscreen mozallowfullscreen></iframe></div></div>"
            ],
            "text/plain": [
              "<folium.folium.Map at 0x7fe3dd716f98>"
            ]
          },
          "metadata": {
            "tags": []
          },
          "execution_count": 59
        }
      ]
    },
    {
      "cell_type": "code",
      "metadata": {
        "id": "I_5aVRWJutN_",
        "colab_type": "code",
        "colab": {}
      },
      "source": [
        ""
      ],
      "execution_count": null,
      "outputs": []
    }
  ]
}