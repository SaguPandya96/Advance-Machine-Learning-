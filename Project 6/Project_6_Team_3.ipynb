{
  "nbformat": 4,
  "nbformat_minor": 0,
  "metadata": {
    "colab": {
      "name": "Project 6 Team 3 .ipynb",
      "provenance": [],
      "collapsed_sections": [],
      "toc_visible": true
    },
    "kernelspec": {
      "name": "python3",
      "display_name": "Python 3"
    }
  },
  "cells": [
    {
      "cell_type": "markdown",
      "metadata": {
        "id": "3ox4daA_hipe",
        "colab_type": "text"
      },
      "source": [
        "# **Project 6**\n",
        "# **Team 3 :- Megha , Sagar**\n",
        "In this assignment you will work in groups of 2 or 3 as done in the previous assignment, to gain experience in applying various clustering algorithms to a variety of datasets and comparing the results. You will find benchmark image datasets here: https://www.tensorflow.org/datasets/catalog/overview (Links to an external site.)\n",
        "\n",
        "1) Select 4 types of image data\n",
        "\n",
        "2) For each dataset, cluster the images using K-Means and plot the elbow graph to show the best K.\n",
        "\n",
        "3) Train a classifier to determine which object is represented in each image and evaluate it on the validation set.\n",
        "\n",
        "4) Use K-Means as a dimensionality reduction tool and train a classifier on the reduced set. Search for the number of clusters that provides the best performance.\n",
        "\n",
        "5) Train a Gaussian mixture model on each dataset. To speed up the algorithm, use PCA dimensionality reduction (99% variataion).\n",
        "\n",
        "6) Graph results of your experiments for the different data sets and provide a qualitative assessment and detailed discussion of the achieved results.\n"
      ]
    },
    {
      "cell_type": "code",
      "metadata": {
        "id": "9iLJu4kQfNZ8",
        "colab_type": "code",
        "colab": {}
      },
      "source": [
        "# Python ≥3.5 is required\n",
        "import sys\n",
        "assert sys.version_info >= (3, 5)\n",
        "\n",
        "# Scikit-Learn ≥0.20 is required\n",
        "import sklearn\n",
        "assert sklearn.__version__ >= \"0.20\"\n",
        "\n",
        "# Common imports\n",
        "import numpy as np\n",
        "import os\n",
        "import urllib\n",
        "from sklearn.cluster import KMeans\n",
        "from sklearn.mixture import GaussianMixture\n",
        "from sklearn.mixture import GaussianMixture\n",
        "import tensorflow as tf\n",
        "import IPython.display as display\n",
        "from PIL import Image\n",
        "\n",
        "# to make this notebook's output stable across runs\n",
        "np.random.seed(42)\n",
        "\n",
        "# To plot pretty figures\n",
        "%matplotlib inline\n",
        "import matplotlib as mpl\n",
        "import matplotlib.pyplot as plt\n",
        "mpl.rc('axes', labelsize=14)\n",
        "mpl.rc('xtick', labelsize=12)\n",
        "mpl.rc('ytick', labelsize=12)\n",
        "\n",
        "# Where to save the figures\n",
        "PROJECT_ROOT_DIR = \".\"\n",
        "CHAPTER_ID = \"unsupervised_learning\"\n",
        "IMAGES_PATH = os.path.join(PROJECT_ROOT_DIR, \"images\", CHAPTER_ID)\n",
        "os.makedirs(IMAGES_PATH, exist_ok=True)\n",
        "\n",
        "def save_fig(fig_id, tight_layout=True, fig_extension=\"png\", resolution=300):\n",
        "    path = os.path.join(IMAGES_PATH, fig_id + \".\" + fig_extension)\n",
        "    print(\"Saving figure\", fig_id)\n",
        "    if tight_layout:\n",
        "        plt.tight_layout()\n",
        "    plt.savefig(path, format=fig_extension, dpi=resolution)\n",
        "\n",
        "# Ignore useless warnings (see SciPy issue #5998)\n",
        "import warnings\n",
        "warnings.filterwarnings(action=\"ignore\", message=\"^internal gelsd\")"
      ],
      "execution_count": 0,
      "outputs": []
    },
    {
      "cell_type": "markdown",
      "metadata": {
        "id": "XjfIR0nE466A",
        "colab_type": "text"
      },
      "source": [
        " Selected 2 types of image data: \n",
        " *   MNIST\n",
        " *   Fashion-MNIST"
      ]
    },
    {
      "cell_type": "markdown",
      "metadata": {
        "id": "tnPNU1KcQPmx",
        "colab_type": "text"
      },
      "source": [
        "#load MNIST dataset"
      ]
    },
    {
      "cell_type": "markdown",
      "metadata": {
        "id": "5ycUawM4Qbhp",
        "colab_type": "text"
      },
      "source": [
        "We have selcted MNIST as one of the datset.\n",
        "\n",
        "*   To know the clustering algorithm on image dataset.\n",
        "\n",
        "\n"
      ]
    },
    {
      "cell_type": "markdown",
      "metadata": {
        "id": "C6NbBB0pQp_b",
        "colab_type": "text"
      },
      "source": [
        "I clustering algorithm, unsupervised Algorithm does not have labels to predict the scores. Only we need is features. So We can import data as before. Later we will not use y_train which is label."
      ]
    },
    {
      "cell_type": "code",
      "metadata": {
        "id": "-IaPjzeZP3bQ",
        "colab_type": "code",
        "colab": {}
      },
      "source": [
        "from sklearn.datasets import fetch_openml\n",
        "\n",
        "mnist = fetch_openml('mnist_784', version=1)\n"
      ],
      "execution_count": 0,
      "outputs": []
    },
    {
      "cell_type": "code",
      "metadata": {
        "id": "PqJy94fFatdX",
        "colab_type": "code",
        "outputId": "f4daa378-b2f1-4fe5-85fb-0a84a4daa633",
        "colab": {
          "base_uri": "https://localhost:8080/",
          "height": 33
        }
      },
      "source": [
        "mnist.keys()"
      ],
      "execution_count": 0,
      "outputs": [
        {
          "output_type": "execute_result",
          "data": {
            "text/plain": [
              "dict_keys(['data', 'target', 'frame', 'feature_names', 'target_names', 'DESCR', 'details', 'categories', 'url'])"
            ]
          },
          "metadata": {
            "tags": []
          },
          "execution_count": 3
        }
      ]
    },
    {
      "cell_type": "markdown",
      "metadata": {
        "id": "g-Vnh_AhQ0hV",
        "colab_type": "text"
      },
      "source": [
        "#Split dataset"
      ]
    },
    {
      "cell_type": "markdown",
      "metadata": {
        "id": "1Z66pefTQ6dl",
        "colab_type": "text"
      },
      "source": [
        "Dividing the dataset into the training set, test set and validation set.\n",
        "We are dividing dataset into 70% for training, 15% for testing and rest for validation set."
      ]
    },
    {
      "cell_type": "code",
      "metadata": {
        "id": "LWOlICsVQ5iO",
        "colab_type": "code",
        "colab": {}
      },
      "source": [
        "from sklearn.model_selection import StratifiedShuffleSplit\n",
        "\n",
        "strat_split = StratifiedShuffleSplit(n_splits=1, test_size=10500, random_state=42)\n",
        "train_valid_idx, test_idx = next(strat_split.split(mnist.data, mnist.target))\n",
        "X_train_valid = mnist.data[train_valid_idx]\n",
        "y_train_valid = mnist.target[train_valid_idx]\n",
        "X_test = mnist.data[test_idx]\n",
        "y_test = mnist.target[test_idx]\n",
        "\n",
        "strat_split = StratifiedShuffleSplit(n_splits=1, test_size=15000, random_state=43)\n",
        "train_idx, valid_idx = next(strat_split.split(X_train_valid, y_train_valid))\n",
        "X_train = X_train_valid[train_idx]\n",
        "y_train = y_train_valid[train_idx]\n",
        "X_valid = X_train_valid[valid_idx]\n",
        "y_valid = y_train_valid[valid_idx]\n"
      ],
      "execution_count": 0,
      "outputs": []
    },
    {
      "cell_type": "markdown",
      "metadata": {
        "id": "yZFMp4QbRUfS",
        "colab_type": "text"
      },
      "source": [
        "Print out the shape of each set to know number of instances and dimensions"
      ]
    },
    {
      "cell_type": "code",
      "metadata": {
        "id": "pqFqYSp_RTs_",
        "colab_type": "code",
        "outputId": "10c70128-36f4-49a3-e721-1fb5e73458a0",
        "colab": {
          "base_uri": "https://localhost:8080/",
          "height": 67
        }
      },
      "source": [
        "print(\"Training set:\", X_train.shape, y_train.shape)\n",
        "print(\"Testing set:\", X_test.shape, y_test.shape)\n",
        "print(\"Validation set:\", X_valid.shape, y_valid.shape)\n"
      ],
      "execution_count": 0,
      "outputs": [
        {
          "output_type": "stream",
          "text": [
            "Training set: (44500, 784) (44500,)\n",
            "Testing set: (10500, 784) (10500,)\n",
            "Validation set: (15000, 784) (15000,)\n"
          ],
          "name": "stdout"
        }
      ]
    },
    {
      "cell_type": "markdown",
      "metadata": {
        "id": "j7qZu5WRSdCn",
        "colab_type": "text"
      },
      "source": [
        "#Kmeans Clustering"
      ]
    },
    {
      "cell_type": "markdown",
      "metadata": {
        "id": "-lTIpHxRSiHZ",
        "colab_type": "text"
      },
      "source": [
        "Used the mini-batch implementation of k-means clustering provided by scikit-learn. This will reduce the amount of time it takes to fit the algorithm to the data due to the large number of dataset. \n",
        "The MNIST dataset contains images of the integers 0 to 9. Because of this, let's start by setting the number of clusters to 10, one for each digit."
      ]
    },
    {
      "cell_type": "code",
      "metadata": {
        "id": "daXybP9zSpp4",
        "colab_type": "code",
        "outputId": "92aa3439-edb5-40fd-f866-15ee7d0d1cdf",
        "colab": {
          "base_uri": "https://localhost:8080/",
          "height": 100
        }
      },
      "source": [
        "from sklearn.cluster import MiniBatchKMeans\n",
        "\n",
        "n_digits = len(np.unique(y_test))\n",
        "print(n_digits)\n",
        "\n",
        "# Initialize KMeans model\n",
        "kmeans = MiniBatchKMeans(n_clusters = n_digits)\n",
        "\n",
        "# Fit the model to the training data\n",
        "kmeans.fit(X)"
      ],
      "execution_count": 0,
      "outputs": [
        {
          "output_type": "stream",
          "text": [
            "10\n"
          ],
          "name": "stdout"
        },
        {
          "output_type": "execute_result",
          "data": {
            "text/plain": [
              "MiniBatchKMeans(batch_size=100, compute_labels=True, init='k-means++',\n",
              "                init_size=None, max_iter=100, max_no_improvement=10,\n",
              "                n_clusters=10, n_init=3, random_state=None,\n",
              "                reassignment_ratio=0.01, tol=0.0, verbose=0)"
            ]
          },
          "metadata": {
            "tags": []
          },
          "execution_count": 83
        }
      ]
    },
    {
      "cell_type": "code",
      "metadata": {
        "id": "8orMVMJhSqvK",
        "colab_type": "code",
        "outputId": "769d7d42-83b4-4254-f38c-1a8243fdb6af",
        "colab": {
          "base_uri": "https://localhost:8080/",
          "height": 33
        }
      },
      "source": [
        "kmeans.labels_"
      ],
      "execution_count": 0,
      "outputs": [
        {
          "output_type": "execute_result",
          "data": {
            "text/plain": [
              "array([3, 9, 6, ..., 3, 5, 7], dtype=int32)"
            ]
          },
          "metadata": {
            "tags": []
          },
          "execution_count": 84
        }
      ]
    },
    {
      "cell_type": "markdown",
      "metadata": {
        "id": "BDQRgWrOTPZw",
        "colab_type": "text"
      },
      "source": [
        "K-means clustering is an unsupervised machine learning method; consequently, the labels assigned by our KMeans algorithm refer to the cluster each array was assigned to, not the actual target integer. To fix this, let's define a few functions that will predict which integer corresponds to each cluster."
      ]
    },
    {
      "cell_type": "code",
      "metadata": {
        "id": "aMJnnirgTn_A",
        "colab_type": "code",
        "colab": {}
      },
      "source": [
        "def infer_cluster_labels(kmeans, actual_labels):\n",
        "    \"\"\"\n",
        "    Associates most probable label with each cluster in KMeans model\n",
        "    returns: dictionary of clusters assigned to each label\n",
        "    \"\"\"\n",
        "\n",
        "    inferred_labels = {}\n",
        "\n",
        "    for i in range(kmeans.n_clusters):\n",
        "\n",
        "        # find index of points in cluster\n",
        "        labels = []\n",
        "        index = np.where(kmeans.labels_ == i)\n",
        "\n",
        "        # append actual labels for each point in cluster\n",
        "        labels.append(actual_labels[index])\n",
        "\n",
        "        # determine most common label\n",
        "        if len(labels[0]) == 1:\n",
        "            counts = np.bincount(labels[0])\n",
        "        else:\n",
        "            counts = np.bincount(np.squeeze(labels))\n",
        "              # assign the cluster to a value in the inferred_labels dictionary\n",
        "        if np.argmax(counts) in inferred_labels:\n",
        "            # append the new number to the existing array at this slot\n",
        "            inferred_labels[np.argmax(counts)].append(i)\n",
        "        else:\n",
        "            # create a new array in this slot\n",
        "            inferred_labels[np.argmax(counts)] = [i]\n",
        "\n",
        "        #print(labels)\n",
        "        #print('Cluster: {}, label: {}'.format(i, np.argmax(counts)))\n",
        "        \n",
        "    return inferred_labels  \n",
        "\n",
        "def infer_data_labels(X_labels, cluster_labels):\n",
        "    \"\"\"\n",
        "    Determines label for each array, depending on the cluster it has been assigned to.\n",
        "    returns: predicted labels for each array\n",
        "    \"\"\"\n",
        "    \n",
        "    # empty array of len(X)\n",
        "    predicted_labels = np.zeros(len(X_labels)).astype(np.uint8)\n",
        "    \n",
        "    for i, cluster in enumerate(X_labels):\n",
        "        for key, value in cluster_labels.items():\n",
        "            if cluster in value:\n",
        "                predicted_labels[i] = key\n",
        "                \n",
        "    return predicted_labels"
      ],
      "execution_count": 0,
      "outputs": []
    },
    {
      "cell_type": "code",
      "metadata": {
        "id": "yZFFcKH0Twhr",
        "colab_type": "code",
        "outputId": "e7037b7e-c0a7-4bb0-e221-e77469538621",
        "colab": {
          "base_uri": "https://localhost:8080/",
          "height": 50
        }
      },
      "source": [
        "cluster_labels = infer_cluster_labels(kmeans, Y)\n",
        "X_clusters = kmeans.predict(X)\n",
        "predicted_labels = infer_data_labels(X_clusters, cluster_labels)\n",
        "print (predicted_labels[:20])\n",
        "print (Y[:20])"
      ],
      "execution_count": 0,
      "outputs": [
        {
          "output_type": "stream",
          "text": [
            "[3 0 4 1 7 2 1 3 1 7 3 8 3 6 1 7 2 8 1 7]\n",
            "[5 0 4 1 9 2 1 3 1 4 3 5 3 6 1 7 2 8 6 9]\n"
          ],
          "name": "stdout"
        }
      ]
    },
    {
      "cell_type": "markdown",
      "metadata": {
        "id": "t4IExVttT3Eb",
        "colab_type": "text"
      },
      "source": [
        "With the functions defined above, we can now determine the accuracy of our algorithms. Since we are using this clustering algorithm for classification, accuracy is ultimately the most important metric; however, there are other metrics out there that can be applied directly to the clusters themselves, regardless of the associated labels. Two of these metrics that we will use are inertia and homogeneity.\n",
        "\n",
        "Furthermore, earlier we made the assumption that K = 10 was the appropriate number of clusters; however, this might not be the case. Let's fit the K-means clustering algorithm with several different values of K, than evaluate the performance using our metrics."
      ]
    },
    {
      "cell_type": "code",
      "metadata": {
        "id": "ZTlEvj0DT9RL",
        "colab_type": "code",
        "colab": {}
      },
      "source": [
        "from sklearn import metrics\n",
        "\n",
        "def calculate_metrics(estimator, data, labels):\n",
        "\n",
        "    # Calculate and print metrics\n",
        "    print('Number of Clusters: {}'.format(estimator.n_clusters))\n",
        "    print('Inertia: {}'.format(estimator.inertia_))\n",
        "    print('Homogeneity: {}'.format(metrics.homogeneity_score(labels, estimator.labels_)))"
      ],
      "execution_count": 0,
      "outputs": []
    },
    {
      "cell_type": "code",
      "metadata": {
        "id": "ubF7VTj7UEHP",
        "colab_type": "code",
        "outputId": "a316a064-a3fc-4bb0-a48b-57585524a836",
        "colab": {
          "base_uri": "https://localhost:8080/",
          "height": 517
        }
      },
      "source": [
        "clusters = [10, 16, 36, 64, 144, 256]\n",
        "\n",
        "# test different numbers of clusters\n",
        "for n_clusters in clusters:\n",
        "    estimator = MiniBatchKMeans(n_clusters = n_clusters)\n",
        "    estimator.fit(X)\n",
        "    \n",
        "    # print cluster metrics\n",
        "    calculate_metrics(estimator, X, Y)\n",
        "    \n",
        "    # determine predicted labels\n",
        "    cluster_labels = infer_cluster_labels(estimator, Y)\n",
        "    predicted_Y = infer_data_labels(estimator.labels_, cluster_labels)\n",
        "    \n",
        "    # calculate and print accuracy\n",
        "    print('Accuracy: {}\\n'.format(metrics.accuracy_score(Y, predicted_Y)))"
      ],
      "execution_count": 0,
      "outputs": [
        {
          "output_type": "stream",
          "text": [
            "Number of Clusters: 10\n",
            "Inertia: 2386843.2746164426\n",
            "Homogeneity: 0.4525276782410099\n",
            "Accuracy: 0.5303666666666667\n",
            "\n",
            "Number of Clusters: 16\n",
            "Inertia: 2209870.5160428113\n",
            "Homogeneity: 0.562136234569839\n",
            "Accuracy: 0.6575833333333333\n",
            "\n",
            "Number of Clusters: 36\n",
            "Inertia: 1953658.1625964418\n",
            "Homogeneity: 0.6879951519738412\n",
            "Accuracy: 0.7778\n",
            "\n",
            "Number of Clusters: 64\n",
            "Inertia: 1983219.609360702\n",
            "Homogeneity: 0.6835500149109663\n",
            "Accuracy: 0.7560166666666667\n",
            "\n",
            "Number of Clusters: 144\n",
            "Inertia: 1637802.6142291431\n",
            "Homogeneity: 0.7954623772364795\n",
            "Accuracy: 0.84785\n",
            "\n",
            "Number of Clusters: 256\n",
            "Inertia: 1519270.8967068691\n",
            "Homogeneity: 0.8387013557086431\n",
            "Accuracy: 0.8869833333333333\n",
            "\n"
          ],
          "name": "stdout"
        }
      ]
    },
    {
      "cell_type": "markdown",
      "metadata": {
        "id": "fwSvjXeSUZoJ",
        "colab_type": "text"
      },
      "source": [
        "#Visualize cluster centroids"
      ]
    },
    {
      "cell_type": "markdown",
      "metadata": {
        "id": "ITR2jcE8Ueej",
        "colab_type": "text"
      },
      "source": [
        "The most representative point within each cluster is called the centroid. If we were dealing with X,Y points, the centroid would simply be a point on the graph. However, since we are using arrays of length 784, our centroid is also going to be an array of length 784. We can reshape this array back into a 28 by 28 pixel image and plot it.\n",
        "\n",
        "These graphs will display the most representative image for each cluster."
      ]
    },
    {
      "cell_type": "code",
      "metadata": {
        "id": "TrvYrdTCUmru",
        "colab_type": "code",
        "outputId": "2b8873fe-21c9-46e5-9251-03face3df0ec",
        "colab": {
          "base_uri": "https://localhost:8080/",
          "height": 1000
        }
      },
      "source": [
        "kmeans = MiniBatchKMeans(n_clusters = 36)\n",
        "kmeans.fit(X)\n",
        "\n",
        "# record centroid values\n",
        "centroids = kmeans.cluster_centers_\n",
        "\n",
        "# reshape centroids into images\n",
        "images = centroids.reshape(36, 28, 28)\n",
        "images *= 255\n",
        "images = images.astype(np.uint8)\n",
        "\n",
        "# determine cluster labels\n",
        "cluster_labels = infer_cluster_labels(kmeans, Y)\n",
        "\n",
        "# create figure with subplots using matplotlib.pyplot\n",
        "fig, axs = plt.subplots(6, 6, figsize = (20, 20))\n",
        "plt.gray()\n",
        "\n",
        "# loop through subplots and add centroid images\n",
        "for i, ax in enumerate(axs.flat):\n",
        "    \n",
        "    # determine inferred label using cluster_labels dictionary\n",
        "    for key, value in cluster_labels.items():\n",
        "        if i in value:\n",
        "            ax.set_title('Inferred Label: {}'.format(key))\n",
        "    \n",
        "    # add image to subplot\n",
        "    ax.matshow(images[i])\n",
        "    ax.axis('off')\n",
        "    \n",
        "# display the figure\n",
        "fig.show()"
      ],
      "execution_count": 0,
      "outputs": [
        {
          "output_type": "display_data",
          "data": {
            "image/png": "[encoded data removed]",
            "text/plain": [
              "<Figure size 1440x1440 with 36 Axes>"
            ]
          },
          "metadata": {
            "tags": [],
            "needs_background": "light"
          }
        }
      ]
    },
    {
      "cell_type": "markdown",
      "metadata": {
        "id": "Jf6Ez0RvVBW3",
        "colab_type": "text"
      },
      "source": [
        "#Kmeans on reduced dimensionality"
      ]
    },
    {
      "cell_type": "code",
      "metadata": {
        "id": "9lwdzFk0U_7a",
        "colab_type": "code",
        "outputId": "5b1c1ef1-4dac-42dc-f915-de49297a05fb",
        "colab": {
          "base_uri": "https://localhost:8080/",
          "height": 33
        }
      },
      "source": [
        "from sklearn.decomposition import PCA\n",
        "\n",
        "pca = PCA(0.99)\n",
        "X_train_pca = pca.fit_transform(X_train)\n",
        "X_valid_pca = pca.transform(X_valid)\n",
        "X_test_pca = pca.transform(X_test)\n",
        "\n",
        "pca.n_components_"
      ],
      "execution_count": 0,
      "outputs": [
        {
          "output_type": "execute_result",
          "data": {
            "text/plain": [
              "331"
            ]
          },
          "metadata": {
            "tags": []
          },
          "execution_count": 11
        }
      ]
    },
    {
      "cell_type": "markdown",
      "metadata": {
        "id": "qMtAFYBuY3Gz",
        "colab_type": "text"
      },
      "source": [
        "2) For each dataset, cluster the images using K-Means and plot the elbow graph to show the best K."
      ]
    },
    {
      "cell_type": "code",
      "metadata": {
        "id": "-fJLxqGpU5Rs",
        "colab_type": "code",
        "outputId": "90910fd5-4c67-41e1-cfc1-ef975d660d17",
        "colab": {
          "base_uri": "https://localhost:8080/",
          "height": 183
        }
      },
      "source": [
        "from sklearn.cluster import KMeans\n",
        "\n",
        "k_range = range(1,11)\n",
        "kmeans_per_k = []\n",
        "for k in k_range:\n",
        "    print(\"k={}\".format(k))\n",
        "    kmeans = KMeans(n_clusters=k, random_state=42).fit(X_train_pca)\n",
        "    kmeans_per_k.append(kmeans)"
      ],
      "execution_count": 0,
      "outputs": [
        {
          "output_type": "stream",
          "text": [
            "k=1\n",
            "k=2\n",
            "k=3\n",
            "k=4\n",
            "k=5\n",
            "k=6\n",
            "k=7\n",
            "k=8\n",
            "k=9\n",
            "k=10\n"
          ],
          "name": "stdout"
        }
      ]
    },
    {
      "cell_type": "markdown",
      "metadata": {
        "id": "nJGXT3C2W5UG",
        "colab_type": "text"
      },
      "source": [
        "#Plotting Elbow"
      ]
    },
    {
      "cell_type": "code",
      "metadata": {
        "id": "Sk1pVP6yVlc9",
        "colab_type": "code",
        "colab": {}
      },
      "source": [
        "from sklearn.cluster import KMeans\n",
        "\n",
        "k=10\n",
        "kmeans_per_k = [KMeans(n_clusters=k, random_state=42).fit(X)\n",
        "                for k in range(1, 11)]\n",
        "inertias = [model.inertia_ for model in kmeans_per_k]"
      ],
      "execution_count": 0,
      "outputs": []
    },
    {
      "cell_type": "code",
      "metadata": {
        "id": "T38DQyJ4Vuw8",
        "colab_type": "code",
        "outputId": "1502cdc7-f90d-4df4-b456-22f66cc40cc5",
        "colab": {
          "base_uri": "https://localhost:8080/",
          "height": 183
        }
      },
      "source": [
        "inertias"
      ],
      "execution_count": 0,
      "outputs": [
        {
          "output_type": "execute_result",
          "data": {
            "text/plain": [
              "[3163502.1297076102,\n",
              " 2960780.802520703,\n",
              " 2816456.487184891,\n",
              " 2707243.4836170147,\n",
              " 2605960.4275039136,\n",
              " 2533295.8754246235,\n",
              " 2479887.870150585,\n",
              " 2432393.903898479,\n",
              " 2388861.6954543474,\n",
              " 2352826.3658958077]"
            ]
          },
          "metadata": {
            "tags": []
          },
          "execution_count": 98
        }
      ]
    },
    {
      "cell_type": "code",
      "metadata": {
        "id": "DZX8tRAtP_Ut",
        "colab_type": "code",
        "outputId": "83a2b5a6-b751-4c2a-c0f7-90a9fb0f59a9",
        "colab": {
          "base_uri": "https://localhost:8080/",
          "height": 316
        }
      },
      "source": [
        "from sklearn.cluster import KMeans\n",
        "K = range(1, 11)\n",
        "meandistortions = []\n",
        "inertia= []\n",
        "for k in K:\n",
        "    kmeans = KMeans(n_clusters=k,init='k-means++', random_state=0)\n",
        "    kmeans.fit(d2_X_train_mnist)\n",
        "\n",
        "    inertia.append(kmeans.inertia_)\n",
        "\n",
        "plt.plot(K, inertia, 'bx-')\n",
        "plt.xlabel('No of clusters')\n",
        "plt.ylabel('inertia')"
      ],
      "execution_count": 0,
      "outputs": [
        {
          "output_type": "execute_result",
          "data": {
            "text/plain": [
              "Text(0, 0.5, 'inertia')"
            ]
          },
          "metadata": {
            "tags": []
          },
          "execution_count": 12
        },
        {
          "output_type": "display_data",
          "data": {
            "image/png": "[encoded data removed]",
            "text/plain": [
              "<Figure size 432x288 with 1 Axes>"
            ]
          },
          "metadata": {
            "tags": [],
            "needs_background": "light"
          }
        }
      ]
    },
    {
      "cell_type": "code",
      "metadata": {
        "id": "uWdsyvgnW9Ym",
        "colab_type": "code",
        "outputId": "6a347980-d40d-4202-cac1-a4de2c58b38e",
        "colab": {
          "base_uri": "https://localhost:8080/",
          "height": 33
        }
      },
      "source": [
        "kmeans.inertia_\n"
      ],
      "execution_count": 0,
      "outputs": [
        {
          "output_type": "execute_result",
          "data": {
            "text/plain": [
              "123324823987.86226"
            ]
          },
          "metadata": {
            "tags": []
          },
          "execution_count": 100
        }
      ]
    },
    {
      "cell_type": "markdown",
      "metadata": {
        "id": "lc5VJns3ZDu0",
        "colab_type": "text"
      },
      "source": [
        "# best k using silhouette and draw the Elbow"
      ]
    },
    {
      "cell_type": "code",
      "metadata": {
        "id": "_QRoGCN9m7y7",
        "colab_type": "code",
        "colab": {}
      },
      "source": [
        "from sklearn.metrics import silhouette_score"
      ],
      "execution_count": 0,
      "outputs": []
    },
    {
      "cell_type": "code",
      "metadata": {
        "id": "727LpqF4nBeC",
        "colab_type": "code",
        "outputId": "0255fabc-3cd8-4f55-89df-4d0f078348ac",
        "colab": {
          "base_uri": "https://localhost:8080/",
          "height": 33
        }
      },
      "source": [
        "silhouette_score(X_train_pca, kmeans.labels_)"
      ],
      "execution_count": 0,
      "outputs": [
        {
          "output_type": "execute_result",
          "data": {
            "text/plain": [
              "0.057506548706733135"
            ]
          },
          "metadata": {
            "tags": []
          },
          "execution_count": 108
        }
      ]
    },
    {
      "cell_type": "code",
      "metadata": {
        "id": "KejEghkRnlm7",
        "colab_type": "code",
        "colab": {}
      },
      "source": [
        "silhouette_scores = [silhouette_score(X_train_pca, model.labels_)\n",
        "                     for model in kmeans_per_k[1:]]"
      ],
      "execution_count": 0,
      "outputs": []
    },
    {
      "cell_type": "code",
      "metadata": {
        "id": "p-yU_xJLpupr",
        "colab_type": "code",
        "colab": {}
      },
      "source": [
        "best_index = np.argmax(silhouette_scores)"
      ],
      "execution_count": 0,
      "outputs": []
    },
    {
      "cell_type": "code",
      "metadata": {
        "id": "4V9qPsSqpwl_",
        "colab_type": "code",
        "colab": {}
      },
      "source": [
        "best_k = k_range[best_index]"
      ],
      "execution_count": 0,
      "outputs": []
    },
    {
      "cell_type": "code",
      "metadata": {
        "id": "Z0UItDGqp0Q6",
        "colab_type": "code",
        "colab": {}
      },
      "source": [
        "best_score = silhouette_scores[best_index]"
      ],
      "execution_count": 0,
      "outputs": []
    },
    {
      "cell_type": "code",
      "metadata": {
        "id": "8AwFHMRrp5fc",
        "colab_type": "code",
        "outputId": "915bba0a-6c80-42aa-c794-976268f13d8c",
        "colab": {
          "base_uri": "https://localhost:8080/",
          "height": 33
        }
      },
      "source": [
        "best_score"
      ],
      "execution_count": 0,
      "outputs": [
        {
          "output_type": "execute_result",
          "data": {
            "text/plain": [
              "0.07002580371425955"
            ]
          },
          "metadata": {
            "tags": []
          },
          "execution_count": 115
        }
      ]
    },
    {
      "cell_type": "code",
      "metadata": {
        "id": "wAzDUiFJqAU5",
        "colab_type": "code",
        "outputId": "bbf056b9-071d-4d2c-be35-dbff7f39196b",
        "colab": {
          "base_uri": "https://localhost:8080/",
          "height": 33
        }
      },
      "source": [
        "k_range"
      ],
      "execution_count": 0,
      "outputs": [
        {
          "output_type": "execute_result",
          "data": {
            "text/plain": [
              "range(1, 11)"
            ]
          },
          "metadata": {
            "tags": []
          },
          "execution_count": 118
        }
      ]
    },
    {
      "cell_type": "code",
      "metadata": {
        "id": "E51_TAOrZO39",
        "colab_type": "code",
        "outputId": "d625e266-ad14-4d76-8cce-33b6b4f0c566",
        "colab": {
          "base_uri": "https://localhost:8080/",
          "height": 33
        }
      },
      "source": [
        "best_k"
      ],
      "execution_count": 0,
      "outputs": [
        {
          "output_type": "execute_result",
          "data": {
            "text/plain": [
              "10"
            ]
          },
          "metadata": {
            "tags": []
          },
          "execution_count": 120
        }
      ]
    },
    {
      "cell_type": "code",
      "metadata": {
        "id": "arx4E58KZSrY",
        "colab_type": "code",
        "outputId": "d0a39dd7-e151-45be-b45f-c8eca5f099f8",
        "colab": {
          "base_uri": "https://localhost:8080/",
          "height": 273
        }
      },
      "source": [
        "inertias = [model.inertia_ for model in kmeans_per_k]\n",
        "best_inertia = inertias[best_index]\n",
        "\n",
        "plt.figure(figsize=(8, 3.5))\n",
        "plt.plot(k_range, inertias, \"bo-\")\n",
        "plt.xlabel(\"$k$\", fontsize=14)\n",
        "plt.ylabel(\"Inertia\", fontsize=14)\n",
        "plt.plot(best_k, best_inertia, \"rs\")\n",
        "plt.show()"
      ],
      "execution_count": 0,
      "outputs": [
        {
          "output_type": "display_data",
          "data": {
            "image/png": "[encoded data removed]",
            "text/plain": [
              "<Figure size 576x252 with 1 Axes>"
            ]
          },
          "metadata": {
            "tags": [],
            "needs_background": "light"
          }
        }
      ]
    },
    {
      "cell_type": "markdown",
      "metadata": {
        "id": "r6V1w2D5oUuJ",
        "colab_type": "text"
      },
      "source": [
        "the best k= 10."
      ]
    },
    {
      "cell_type": "code",
      "metadata": {
        "id": "LpePLgipaG44",
        "colab_type": "code",
        "colab": {}
      },
      "source": [
        "best_model = kmeans_per_k[best_index]"
      ],
      "execution_count": 0,
      "outputs": []
    },
    {
      "cell_type": "markdown",
      "metadata": {
        "id": "JduRTaBYXSfs",
        "colab_type": "text"
      },
      "source": [
        "#Train a classifier"
      ]
    },
    {
      "cell_type": "markdown",
      "metadata": {
        "id": "SoOILGfyiWgw",
        "colab_type": "text"
      },
      "source": [
        "3) Train a classifier to determine which object is represented in each image and evaluate it on the validation set."
      ]
    },
    {
      "cell_type": "code",
      "metadata": {
        "id": "yOxIgk7EXQkC",
        "colab_type": "code",
        "outputId": "923b4e9f-76ae-4af7-94f5-89eee1f5f026",
        "colab": {
          "base_uri": "https://localhost:8080/",
          "height": 33
        }
      },
      "source": [
        "from sklearn.ensemble import RandomForestClassifier\n",
        "Random_clf = RandomForestClassifier(n_estimators=150, random_state=42)\n",
        "Random_clf.fit(X_train, y_train)\n",
        "Random_clf.score(X_test, y_test)"
      ],
      "execution_count": 0,
      "outputs": [
        {
          "output_type": "execute_result",
          "data": {
            "text/plain": [
              "0.9635238095238096"
            ]
          },
          "metadata": {
            "tags": []
          },
          "execution_count": 132
        }
      ]
    },
    {
      "cell_type": "markdown",
      "metadata": {
        "id": "HyoHUWMSX08R",
        "colab_type": "text"
      },
      "source": [
        "Here we train a classifier to predict number in the image."
      ]
    },
    {
      "cell_type": "code",
      "metadata": {
        "id": "Ij2aAKXdXvjx",
        "colab_type": "code",
        "outputId": "5e4d25d1-9bc1-49dd-d643-7fa33ef07441",
        "colab": {
          "base_uri": "https://localhost:8080/",
          "height": 33
        }
      },
      "source": [
        "from sklearn.ensemble import RandomForestClassifier\n",
        "\n",
        "Random_clf = RandomForestClassifier(n_estimators=150, random_state=42)\n",
        "Random_clf.fit(X_train_pca, y_train)\n",
        "Random_clf.score(X_valid_pca, y_valid)"
      ],
      "execution_count": 0,
      "outputs": [
        {
          "output_type": "execute_result",
          "data": {
            "text/plain": [
              "0.9374"
            ]
          },
          "metadata": {
            "tags": []
          },
          "execution_count": 12
        }
      ]
    },
    {
      "cell_type": "markdown",
      "metadata": {
        "id": "Rtdx65rtYB04",
        "colab_type": "text"
      },
      "source": [
        "So without using PCA dimensional reduction, We got the 96. This is Not bad Score. When we used Random forest on reduced dimensions we got 94. But we can see how it will effect if we use Kmeans as dimension reduction."
      ]
    },
    {
      "cell_type": "markdown",
      "metadata": {
        "id": "twHiT8pbDw7Z",
        "colab_type": "text"
      },
      "source": [
        "#K-Means as a dimensionality reduction tool"
      ]
    },
    {
      "cell_type": "markdown",
      "metadata": {
        "id": "X8m5uTxmivaj",
        "colab_type": "text"
      },
      "source": [
        "4) Use K-Means as a dimensionality reduction tool and train a classifier on the reduced set. Search for the number of clusters that provides the best performance."
      ]
    },
    {
      "cell_type": "code",
      "metadata": {
        "id": "eb1KxC7_X7KQ",
        "colab_type": "code",
        "outputId": "67918576-d71a-40bc-844e-b52e5219de8b",
        "colab": {
          "base_uri": "https://localhost:8080/",
          "height": 33
        }
      },
      "source": [
        "X_train_reduced = best_model.transform(X_train_pca)\n",
        "X_valid_reduced = best_model.transform(X_valid_pca)\n",
        "X_test_reduced = best_model.transform(X_test_pca)\n",
        "\n",
        "Random_clf = RandomForestClassifier(n_estimators=150, random_state=42)\n",
        "Random_clf.fit(X_train_reduced, y_train)\n",
        "    \n",
        "Random_clf.score(X_valid_reduced, y_valid)"
      ],
      "execution_count": 0,
      "outputs": [
        {
          "output_type": "execute_result",
          "data": {
            "text/plain": [
              "0.1502"
            ]
          },
          "metadata": {
            "tags": []
          },
          "execution_count": 24
        }
      ]
    },
    {
      "cell_type": "markdown",
      "metadata": {
        "id": "xLPZzGzpzG0E",
        "colab_type": "text"
      },
      "source": [
        "We got very bad score after used K-means as a dimensionality reduction tool for Random forest classifier."
      ]
    },
    {
      "cell_type": "markdown",
      "metadata": {
        "id": "jTbjYLm3i5Jh",
        "colab_type": "text"
      },
      "source": [
        "Search for the number of clusters that provides the best performance.\n",
        "* there are two ways to search for clusters\n",
        "1} using Grid  search when we dont have validation set. But we want to know how this works for this dataset.\n"
      ]
    },
    {
      "cell_type": "code",
      "metadata": {
        "id": "azCI888Y4097",
        "colab_type": "code",
        "outputId": "6f81a2cb-f300-4206-ff9d-839d35b6a3cc",
        "colab": {
          "base_uri": "https://localhost:8080/",
          "height": 1000
        }
      },
      "source": [
        "from sklearn.model_selection import GridSearchCV\n",
        "\n",
        "param_grid = dict(kmeans__n_clusters=range(15, 100, 10))\n",
        "grid_clf = GridSearchCV(pipeline, param_grid, cv=3, verbose=2)\n",
        "grid_clf.fit(d2_X_train, y_train)"
      ],
      "execution_count": 0,
      "outputs": [
        {
          "output_type": "stream",
          "text": [
            "Fitting 3 folds for each of 9 candidates, totalling 27 fits\n",
            "[CV] kmeans__n_clusters=15 ...........................................\n"
          ],
          "name": "stdout"
        },
        {
          "output_type": "stream",
          "text": [
            "[Parallel(n_jobs=1)]: Using backend SequentialBackend with 1 concurrent workers.\n"
          ],
          "name": "stderr"
        },
        {
          "output_type": "stream",
          "text": [
            "[CV] ............................ kmeans__n_clusters=15, total= 1.5min\n",
            "[CV] kmeans__n_clusters=15 ...........................................\n"
          ],
          "name": "stdout"
        },
        {
          "output_type": "stream",
          "text": [
            "[Parallel(n_jobs=1)]: Done   1 out of   1 | elapsed:  1.5min remaining:    0.0s\n"
          ],
          "name": "stderr"
        },
        {
          "output_type": "stream",
          "text": [
            "[CV] ............................ kmeans__n_clusters=15, total= 1.5min\n",
            "[CV] kmeans__n_clusters=15 ...........................................\n",
            "[CV] ............................ kmeans__n_clusters=15, total= 1.3min\n",
            "[CV] kmeans__n_clusters=25 ...........................................\n",
            "[CV] ............................ kmeans__n_clusters=25, total= 2.0min\n",
            "[CV] kmeans__n_clusters=25 ...........................................\n",
            "[CV] ............................ kmeans__n_clusters=25, total= 2.0min\n",
            "[CV] kmeans__n_clusters=25 ...........................................\n",
            "[CV] ............................ kmeans__n_clusters=25, total= 2.1min\n",
            "[CV] kmeans__n_clusters=35 ...........................................\n",
            "[CV] ............................ kmeans__n_clusters=35, total= 2.4min\n",
            "[CV] kmeans__n_clusters=35 ...........................................\n",
            "[CV] ............................ kmeans__n_clusters=35, total= 2.5min\n",
            "[CV] kmeans__n_clusters=35 ...........................................\n",
            "[CV] ............................ kmeans__n_clusters=35, total= 2.3min\n",
            "[CV] kmeans__n_clusters=45 ...........................................\n",
            "[CV] ............................ kmeans__n_clusters=45, total= 3.0min\n",
            "[CV] kmeans__n_clusters=45 ...........................................\n",
            "[CV] ............................ kmeans__n_clusters=45, total= 3.0min\n",
            "[CV] kmeans__n_clusters=45 ...........................................\n",
            "[CV] ............................ kmeans__n_clusters=45, total= 2.8min\n",
            "[CV] kmeans__n_clusters=55 ...........................................\n",
            "[CV] ............................ kmeans__n_clusters=55, total= 3.4min\n",
            "[CV] kmeans__n_clusters=55 ...........................................\n",
            "[CV] ............................ kmeans__n_clusters=55, total= 3.5min\n",
            "[CV] kmeans__n_clusters=55 ...........................................\n",
            "[CV] ............................ kmeans__n_clusters=55, total= 3.3min\n",
            "[CV] kmeans__n_clusters=65 ...........................................\n",
            "[CV] ............................ kmeans__n_clusters=65, total= 4.3min\n",
            "[CV] kmeans__n_clusters=65 ...........................................\n",
            "[CV] ............................ kmeans__n_clusters=65, total= 4.1min\n",
            "[CV] kmeans__n_clusters=65 ...........................................\n",
            "[CV] ............................ kmeans__n_clusters=65, total= 4.3min\n",
            "[CV] kmeans__n_clusters=75 ...........................................\n",
            "[CV] ............................ kmeans__n_clusters=75, total= 4.6min\n",
            "[CV] kmeans__n_clusters=75 ...........................................\n",
            "[CV] ............................ kmeans__n_clusters=75, total= 4.7min\n",
            "[CV] kmeans__n_clusters=75 ...........................................\n",
            "[CV] ............................ kmeans__n_clusters=75, total= 4.5min\n",
            "[CV] kmeans__n_clusters=85 ...........................................\n",
            "[CV] ............................ kmeans__n_clusters=85, total= 5.1min\n",
            "[CV] kmeans__n_clusters=85 ...........................................\n",
            "[CV] ............................ kmeans__n_clusters=85, total= 5.1min\n",
            "[CV] kmeans__n_clusters=85 ...........................................\n",
            "[CV] ............................ kmeans__n_clusters=85, total= 5.0min\n",
            "[CV] kmeans__n_clusters=95 ...........................................\n",
            "[CV] ............................ kmeans__n_clusters=95, total= 5.0min\n",
            "[CV] kmeans__n_clusters=95 ...........................................\n",
            "[CV] ............................ kmeans__n_clusters=95, total= 4.9min\n",
            "[CV] kmeans__n_clusters=95 ...........................................\n",
            "[CV] ............................ kmeans__n_clusters=95, total= 5.2min\n"
          ],
          "name": "stdout"
        },
        {
          "output_type": "stream",
          "text": [
            "[Parallel(n_jobs=1)]: Done  27 out of  27 | elapsed: 93.5min finished\n"
          ],
          "name": "stderr"
        },
        {
          "output_type": "execute_result",
          "data": {
            "text/plain": [
              "GridSearchCV(cv=3, error_score=nan,\n",
              "             estimator=Pipeline(memory=None,\n",
              "                                steps=[('kmeans',\n",
              "                                        KMeans(algorithm='auto', copy_x=True,\n",
              "                                               init='k-means++', max_iter=300,\n",
              "                                               n_clusters=15, n_init=10,\n",
              "                                               n_jobs=None,\n",
              "                                               precompute_distances='auto',\n",
              "                                               random_state=42, tol=0.0001,\n",
              "                                               verbose=0)),\n",
              "                                       ('rnd_clf',\n",
              "                                        RandomForestClassifier(bootstrap=True,\n",
              "                                                               ccp_alpha=0.0,\n",
              "                                                               class_weight=None,\n",
              "                                                               criterion='gini',\n",
              "                                                               m...\n",
              "                                                               min_impurity_split=None,\n",
              "                                                               min_samples_leaf=1,\n",
              "                                                               min_samples_split=2,\n",
              "                                                               min_weight_fraction_leaf=0.0,\n",
              "                                                               n_estimators=100,\n",
              "                                                               n_jobs=None,\n",
              "                                                               oob_score=False,\n",
              "                                                               random_state=None,\n",
              "                                                               verbose=0,\n",
              "                                                               warm_start=False))],\n",
              "                                verbose=False),\n",
              "             iid='deprecated', n_jobs=None,\n",
              "             param_grid={'kmeans__n_clusters': range(15, 100, 10)},\n",
              "             pre_dispatch='2*n_jobs', refit=True, return_train_score=False,\n",
              "             scoring=None, verbose=2)"
            ]
          },
          "metadata": {
            "tags": []
          },
          "execution_count": 42
        }
      ]
    },
    {
      "cell_type": "code",
      "metadata": {
        "id": "H6pYqMutgJGG",
        "colab_type": "code",
        "colab": {}
      },
      "source": [
        "grid_clf.score(X_test, y_test)"
      ],
      "execution_count": 0,
      "outputs": []
    },
    {
      "cell_type": "code",
      "metadata": {
        "id": "Z0kE4i-dhHvO",
        "colab_type": "code",
        "colab": {}
      },
      "source": [
        "grid_clf.best_params_"
      ],
      "execution_count": 0,
      "outputs": []
    },
    {
      "cell_type": "markdown",
      "metadata": {
        "id": "J3lyoDI-kIdM",
        "colab_type": "text"
      },
      "source": [
        "Another way to search the number of clusters when we dont need K - folds"
      ]
    },
    {
      "cell_type": "code",
      "metadata": {
        "id": "0DLuXptsYLHD",
        "colab_type": "code",
        "outputId": "05f44253-1018-492a-8fd3-0bac4e7567be",
        "colab": {
          "base_uri": "https://localhost:8080/",
          "height": 183
        }
      },
      "source": [
        "from sklearn.pipeline import Pipeline\n",
        "\n",
        "for n_clusters in k_range:\n",
        "    pipeline = Pipeline([\n",
        "        (\"kmeans\", KMeans(n_clusters=n_clusters, random_state=n_clusters)),\n",
        "        (\"Random_forest_clf\", RandomForestClassifier(n_estimators=150, random_state=42))\n",
        "    ])\n",
        "    pipeline.fit(X_train_pca, y_train)\n",
        "    print(n_clusters, pipeline.score(X_valid_pca, y_valid))"
      ],
      "execution_count": 0,
      "outputs": [
        {
          "output_type": "stream",
          "text": [
            "1 0.1502\n",
            "2 0.30606666666666665\n",
            "3 0.46413333333333334\n",
            "4 0.5872666666666667\n",
            "5 0.7257333333333333\n",
            "6 0.7671333333333333\n",
            "7 0.7941333333333334\n",
            "8 0.8383333333333334\n",
            "9 0.8539333333333333\n",
            "10 0.8754\n"
          ],
          "name": "stdout"
        }
      ]
    },
    {
      "cell_type": "markdown",
      "metadata": {
        "id": "EyS1Z_Ibkdm5",
        "colab_type": "text"
      },
      "source": [
        "By using the number of clusters, we got beyond 85% accuracy. Looks like the distances to the cluster centroids are very informative as the original images."
      ]
    },
    {
      "cell_type": "code",
      "metadata": {
        "id": "4mnS59OBYQ3p",
        "colab_type": "code",
        "colab": {}
      },
      "source": [
        "X_train_tocheck = np.c_[X_train_pca, X_train_reduced]\n",
        "X_valid_tocheck = np.c_[X_valid_pca, X_valid_reduced]\n",
        "X_test_tocheck= np.c_[X_test_pca, X_test_reduced]"
      ],
      "execution_count": 0,
      "outputs": []
    },
    {
      "cell_type": "code",
      "metadata": {
        "id": "CxVmRLM9YV3n",
        "colab_type": "code",
        "outputId": "55c64dd8-ba2f-4672-a9a0-727ac22c78bb",
        "colab": {
          "base_uri": "https://localhost:8080/",
          "height": 33
        }
      },
      "source": [
        "Random_clf = RandomForestClassifier(n_estimators=150, random_state=42)\n",
        "Random_clf.fit(X_train_tocheck, y_train)\n",
        "Random_clf.score(X_valid_tocheck, y_valid)"
      ],
      "execution_count": 0,
      "outputs": [
        {
          "output_type": "execute_result",
          "data": {
            "text/plain": [
              "0.9384666666666667"
            ]
          },
          "metadata": {
            "tags": []
          },
          "execution_count": 27
        }
      ]
    },
    {
      "cell_type": "markdown",
      "metadata": {
        "id": "knRCnW2JkkBi",
        "colab_type": "text"
      },
      "source": [
        "It is good score than using number of clusters. "
      ]
    },
    {
      "cell_type": "markdown",
      "metadata": {
        "id": "TfQAUO0ulAv0",
        "colab_type": "text"
      },
      "source": [
        "#Gaussian mixture"
      ]
    },
    {
      "cell_type": "markdown",
      "metadata": {
        "id": "yXtvpWBUl_wu",
        "colab_type": "text"
      },
      "source": [
        "5) Train a Gaussian mixture model  on each dataset. To speed up the algorithm, use PCA dimensionality reduction (99% variataion)."
      ]
    },
    {
      "cell_type": "code",
      "metadata": {
        "id": "PItrABMXlDei",
        "colab_type": "code",
        "colab": {}
      },
      "source": [
        "To speed things up, we'll reduce the data's dimensionality using PCA:"
      ],
      "execution_count": 0,
      "outputs": []
    },
    {
      "cell_type": "code",
      "metadata": {
        "id": "9ZWCZ0eKlFiE",
        "colab_type": "code",
        "colab": {}
      },
      "source": [
        "from sklearn.mixture import GaussianMixture\n",
        "\n",
        "gm = GaussianMixture(n_components=40, random_state=42)\n",
        "y_pred = gm.fit_predict(X_train_pca)"
      ],
      "execution_count": 0,
      "outputs": []
    },
    {
      "cell_type": "code",
      "metadata": {
        "id": "H-xaDEOV8O89",
        "colab_type": "code",
        "outputId": "ca8ee5b5-9121-44a8-eb13-c1c583896152",
        "colab": {
          "base_uri": "https://localhost:8080/",
          "height": 33
        }
      },
      "source": [
        "y_pred"
      ],
      "execution_count": 0,
      "outputs": [
        {
          "output_type": "execute_result",
          "data": {
            "text/plain": [
              "array([11, 27,  8, ...,  5,  1, 18])"
            ]
          },
          "metadata": {
            "tags": []
          },
          "execution_count": 29
        }
      ]
    },
    {
      "cell_type": "code",
      "metadata": {
        "id": "VIohBr2llMWl",
        "colab_type": "code",
        "outputId": "2008e9f9-002d-41c1-d468-a3eb5f3990fa",
        "colab": {
          "base_uri": "https://localhost:8080/",
          "height": 233
        }
      },
      "source": [
        "gm.means_"
      ],
      "execution_count": 0,
      "outputs": [
        {
          "output_type": "execute_result",
          "data": {
            "text/plain": [
              "array([[-1.18723585e+02,  5.40798579e+02,  5.00974405e+02, ...,\n",
              "        -1.18361893e+00,  6.70746127e-01, -2.73163220e-01],\n",
              "       [-8.37521528e+02, -6.25146523e+02,  2.35711069e+02, ...,\n",
              "         9.63623641e-01, -4.31942261e-01,  7.92597417e-01],\n",
              "       [ 1.21327411e+03, -2.75705496e+02,  1.96978873e+02, ...,\n",
              "         1.74536828e-01,  6.77705763e-01,  1.07355224e+00],\n",
              "       ...,\n",
              "       [ 4.08772921e+02, -1.64784397e+02,  6.90474869e+02, ...,\n",
              "        -2.26409257e+00,  1.14347748e+00,  2.03336614e-01],\n",
              "       [ 4.57194002e+02, -4.17539676e+02, -7.78053905e+02, ...,\n",
              "        -1.97238322e-01,  6.64505062e-01,  7.58848983e-01],\n",
              "       [ 1.03816012e+03, -2.93474614e+02, -4.09049156e+02, ...,\n",
              "         7.59621808e-01,  3.89461234e-01, -7.46939870e-01]])"
            ]
          },
          "metadata": {
            "tags": []
          },
          "execution_count": 30
        }
      ]
    },
    {
      "cell_type": "code",
      "metadata": {
        "id": "D9W92O6plOxn",
        "colab_type": "code",
        "colab": {}
      },
      "source": [
        "gm.weights_"
      ],
      "execution_count": 0,
      "outputs": []
    },
    {
      "cell_type": "code",
      "metadata": {
        "id": "gZ4fPV5mlQ_R",
        "colab_type": "code",
        "outputId": "fbbc92ce-ce74-420b-bfe7-dab02f2a5d6c",
        "colab": {
          "base_uri": "https://localhost:8080/",
          "height": 1000
        }
      },
      "source": [
        "gm.covariances_"
      ],
      "execution_count": 0,
      "outputs": [
        {
          "output_type": "execute_result",
          "data": {
            "text/plain": [
              "array([[[ 7.58169439e+04,  5.08021072e+04,  2.58121635e+04, ...,\n",
              "         -1.08605966e+02, -5.97175269e+01,  2.50242503e+02],\n",
              "        [ 5.08021072e+04,  7.60068975e+04,  8.18634095e+03, ...,\n",
              "         -1.64811959e+02, -4.45390860e+01,  1.46329127e+02],\n",
              "        [ 2.58121635e+04,  8.18634095e+03,  4.83580090e+04, ...,\n",
              "         -1.14642012e+02, -2.36014848e+02, -2.56564934e+02],\n",
              "        ...,\n",
              "        [-1.08605966e+02, -1.64811959e+02, -1.14642012e+02, ...,\n",
              "          3.40036007e+02,  2.93497058e+01, -1.68273401e+01],\n",
              "        [-5.97175269e+01, -4.45390860e+01, -2.36014848e+02, ...,\n",
              "          2.93497058e+01,  4.20030726e+02, -6.11682214e+00],\n",
              "        [ 2.50242503e+02,  1.46329127e+02, -2.56564934e+02, ...,\n",
              "         -1.68273401e+01, -6.11682214e+00,  4.00521351e+02]],\n",
              "\n",
              "       [[ 8.04538858e+03, -1.13022566e+02,  8.26340984e+02, ...,\n",
              "         -1.94183413e+01, -3.90647651e+01,  4.99500335e+00],\n",
              "        [-1.13022566e+02,  2.43146917e+04, -9.61976805e+03, ...,\n",
              "         -1.98253635e+02, -6.53025457e+01, -1.65038467e+01],\n",
              "        [ 8.26340984e+02, -9.61976805e+03,  1.59612727e+04, ...,\n",
              "          1.13877850e+02, -7.08839946e+01,  3.47008834e+01],\n",
              "        ...,\n",
              "        [-1.94183413e+01, -1.98253635e+02,  1.13877850e+02, ...,\n",
              "          2.13475238e+02,  4.42589294e+01, -2.80801462e+01],\n",
              "        [-3.90647651e+01, -6.53025457e+01, -7.08839946e+01, ...,\n",
              "          4.42589294e+01,  2.49346070e+02,  1.23310326e+01],\n",
              "        [ 4.99500335e+00, -1.65038467e+01,  3.47008834e+01, ...,\n",
              "         -2.80801462e+01,  1.23310326e+01,  1.73301066e+02]],\n",
              "\n",
              "       [[ 1.37925530e+05, -7.86164125e+03,  1.13458021e+04, ...,\n",
              "         -6.38426914e+02,  3.71921788e+02, -3.55588233e+02],\n",
              "        [-7.86164125e+03,  2.94326638e+04,  3.11456856e+03, ...,\n",
              "          8.91572356e+00, -7.67166190e+01,  1.15209501e+02],\n",
              "        [ 1.13458021e+04,  3.11456856e+03,  9.75110889e+04, ...,\n",
              "          1.71469161e+02,  1.79943657e+02,  3.12284796e+02],\n",
              "        ...,\n",
              "        [-6.38426914e+02,  8.91572356e+00,  1.71469161e+02, ...,\n",
              "          3.31212063e+02,  5.25214206e+01,  4.86790266e+01],\n",
              "        [ 3.71921788e+02, -7.67166190e+01,  1.79943657e+02, ...,\n",
              "          5.25214206e+01,  4.09593133e+02, -1.88987193e+00],\n",
              "        [-3.55588233e+02,  1.15209501e+02,  3.12284796e+02, ...,\n",
              "          4.86790266e+01, -1.88987193e+00,  4.28374074e+02]],\n",
              "\n",
              "       ...,\n",
              "\n",
              "       [[ 1.03830467e+05, -1.78468927e+04,  2.15083738e+04, ...,\n",
              "          5.63053353e+01,  1.21556468e+02, -4.59006865e+01],\n",
              "        [-1.78468927e+04,  5.80057771e+04,  2.52819801e+03, ...,\n",
              "          1.96126033e+02, -8.27532484e+01, -3.73869562e+02],\n",
              "        [ 2.15083738e+04,  2.52819801e+03,  5.95557936e+04, ...,\n",
              "         -2.16555407e+02,  2.07885863e+02,  1.98140405e+02],\n",
              "        ...,\n",
              "        [ 5.63053353e+01,  1.96126033e+02, -2.16555407e+02, ...,\n",
              "          7.18914723e+02, -3.05797381e+01, -3.23192447e+01],\n",
              "        [ 1.21556468e+02, -8.27532484e+01,  2.07885863e+02, ...,\n",
              "         -3.05797381e+01,  5.03614416e+02, -1.99133732e+01],\n",
              "        [-4.59006865e+01, -3.73869562e+02,  1.98140405e+02, ...,\n",
              "         -3.23192447e+01, -1.99133732e+01,  5.76171735e+02]],\n",
              "\n",
              "       [[ 1.13098840e+05, -1.22859411e+04,  4.20427067e+02, ...,\n",
              "          1.02622351e+02,  5.60974719e+01,  1.26726320e+02],\n",
              "        [-1.22859411e+04,  7.60191724e+04, -3.41918016e+03, ...,\n",
              "         -3.91793345e+02, -2.26888495e+01,  1.24566455e+01],\n",
              "        [ 4.20427067e+02, -3.41918016e+03,  5.29850018e+04, ...,\n",
              "          1.69813644e+02,  2.25583331e+02,  7.34771710e+01],\n",
              "        ...,\n",
              "        [ 1.02622351e+02, -3.91793345e+02,  1.69813644e+02, ...,\n",
              "          3.70540593e+02,  1.64146357e+01,  5.67498844e+01],\n",
              "        [ 5.60974719e+01, -2.26888495e+01,  2.25583331e+02, ...,\n",
              "          1.64146357e+01,  5.49876115e+02, -5.70171266e+01],\n",
              "        [ 1.26726320e+02,  1.24566455e+01,  7.34771710e+01, ...,\n",
              "          5.67498844e+01, -5.70171266e+01,  5.20362833e+02]],\n",
              "\n",
              "       [[ 1.89929333e+05, -1.50680753e+04,  1.21283348e+04, ...,\n",
              "         -3.41046564e+02, -1.12407134e+02,  2.21694400e+02],\n",
              "        [-1.50680753e+04,  4.95468417e+04,  1.04969986e+04, ...,\n",
              "         -1.98844725e+01,  4.27459273e+02,  1.76093463e+02],\n",
              "        [ 1.21283348e+04,  1.04969986e+04,  5.58647478e+04, ...,\n",
              "         -6.85013814e+01,  1.42989209e+02,  6.45191190e+01],\n",
              "        ...,\n",
              "        [-3.41046564e+02, -1.98844725e+01, -6.85013814e+01, ...,\n",
              "          3.36008445e+02,  1.07671578e+01,  3.54339834e+01],\n",
              "        [-1.12407134e+02,  4.27459273e+02,  1.42989209e+02, ...,\n",
              "          1.07671578e+01,  4.50385232e+02,  3.37477117e+00],\n",
              "        [ 2.21694400e+02,  1.76093463e+02,  6.45191190e+01, ...,\n",
              "          3.54339834e+01,  3.37477117e+00,  4.85920806e+02]]])"
            ]
          },
          "metadata": {
            "tags": []
          },
          "execution_count": 31
        }
      ]
    },
    {
      "cell_type": "code",
      "metadata": {
        "id": "1Xz3cNeolVhe",
        "colab_type": "code",
        "outputId": "4e4a9f6a-c4e0-4cb4-f039-8dffbfb59c36",
        "colab": {
          "base_uri": "https://localhost:8080/",
          "height": 33
        }
      },
      "source": [
        "gm.converged_"
      ],
      "execution_count": 0,
      "outputs": [
        {
          "output_type": "execute_result",
          "data": {
            "text/plain": [
              "True"
            ]
          },
          "metadata": {
            "tags": []
          },
          "execution_count": 32
        }
      ]
    },
    {
      "cell_type": "markdown",
      "metadata": {
        "id": "ZwkMxA8UiJPH",
        "colab_type": "text"
      },
      "source": [
        "# **Fashion Mnist Data set**"
      ]
    },
    {
      "cell_type": "markdown",
      "metadata": {
        "id": "ZTghRRRDiN8-",
        "colab_type": "text"
      },
      "source": [
        "# **Import the data set here:-**"
      ]
    },
    {
      "cell_type": "code",
      "metadata": {
        "id": "0K7Pao6pYZIP",
        "colab_type": "code",
        "outputId": "b4ef69f9-3258-43e0-9ef6-704f76534f16",
        "colab": {
          "base_uri": "https://localhost:8080/",
          "height": 189
        }
      },
      "source": [
        "import tensorflow as tf\n",
        "(X_train, y_train), (X_test, y_test)=tf.keras.datasets.fashion_mnist.load_data()\n",
        "print(f\"Length of  X_train: {X_train.shape}, Length of y_train is: {y_train.shape}\")\n",
        "print(f\"Length of  X_test:{X_test.shape}, Length of y_test is{y_test.shape}\")"
      ],
      "execution_count": 0,
      "outputs": [
        {
          "output_type": "stream",
          "text": [
            "Downloading data from https://storage.googleapis.com/tensorflow/tf-keras-datasets/train-labels-idx1-ubyte.gz\n",
            "32768/29515 [=================================] - 0s 0us/step\n",
            "Downloading data from https://storage.googleapis.com/tensorflow/tf-keras-datasets/train-images-idx3-ubyte.gz\n",
            "26427392/26421880 [==============================] - 0s 0us/step\n",
            "Downloading data from https://storage.googleapis.com/tensorflow/tf-keras-datasets/t10k-labels-idx1-ubyte.gz\n",
            "8192/5148 [===============================================] - 0s 0us/step\n",
            "Downloading data from https://storage.googleapis.com/tensorflow/tf-keras-datasets/t10k-images-idx3-ubyte.gz\n",
            "4423680/4422102 [==============================] - 0s 0us/step\n",
            "Length of  X_train: (60000, 28, 28), Length of y_train is: (60000,)\n",
            "Length of  X_test:(10000, 28, 28), Length of y_test is(10000,)\n"
          ],
          "name": "stdout"
        }
      ]
    },
    {
      "cell_type": "markdown",
      "metadata": {
        "id": "8s3OyYBqigX1",
        "colab_type": "text"
      },
      "source": [
        "Fashion-MNIST is a dataset of Zalando's article images consisting of a training set of 60,000 examples and a test set of 10,000 examples. Each example is a 28x28 grayscale image, associated with a label from 10 classes."
      ]
    },
    {
      "cell_type": "markdown",
      "metadata": {
        "id": "WdJf5kgJFMcP",
        "colab_type": "text"
      },
      "source": [
        "Load the data set:-\n",
        "\n",
        "tf.keras.datasets.fashion_mnist.load_data() returns 2 tuples here:\n",
        "\n",
        "x_train, x_test: Numpy array of image data(number_samples, 28, 28).\n",
        "\n",
        "y_train, y_test: Numpy array of category labels here (integers in range 0-9): (num_samples, ).."
      ]
    },
    {
      "cell_type": "code",
      "metadata": {
        "id": "WlqoLm94RreR",
        "colab_type": "code",
        "outputId": "6ccbc61e-398d-4ef9-eb6d-3977983ad237",
        "colab": {
          "base_uri": "https://localhost:8080/",
          "height": 280
        }
      },
      "source": [
        "#playing\n",
        "plt.figure(10)\n",
        "img = plt.imshow(X_train[100])"
      ],
      "execution_count": 0,
      "outputs": [
        {
          "output_type": "display_data",
          "data": {
            "image/png": "[encoded data removed]",
            "text/plain": [
              "<Figure size 432x288 with 1 Axes>"
            ]
          },
          "metadata": {
            "tags": [],
            "needs_background": "light"
          }
        }
      ]
    },
    {
      "cell_type": "code",
      "metadata": {
        "id": "eo7NyBTscZzh",
        "colab_type": "code",
        "colab": {}
      },
      "source": [
        "#Convert the X_train and X_test data into 2d array here:\n",
        "nsamples, nx, ny = X_train.shape\n",
        "d2_X_train = X_train.reshape((nsamples,nx*ny))\n",
        "nsamples, nx, ny = X_test.shape\n",
        "d2_X_test = X_test.reshape((nsamples,nx*ny))"
      ],
      "execution_count": 0,
      "outputs": []
    },
    {
      "cell_type": "markdown",
      "metadata": {
        "id": "UuHVXgNCkdt2",
        "colab_type": "text"
      },
      "source": [
        "# **K-Means**\n",
        "# **2) For Fashion Mnist  dataset, cluster the images using K-Means and plot the elbow graph to show the best K.**"
      ]
    },
    {
      "cell_type": "markdown",
      "metadata": {
        "id": "RYo8Ci0yi_3L",
        "colab_type": "text"
      },
      "source": [
        "# **Measure the cluster Quality**"
      ]
    },
    {
      "cell_type": "markdown",
      "metadata": {
        "id": "Hc8PNUa-jE1O",
        "colab_type": "text"
      },
      "source": [
        "\n",
        "Inertia: To select the best model, we will need a way to evaluate a K-Mean model's performance. Unfortunately, clustering is an unsupervised task, so we do not have the targets. But at least we can measure the distance between each instance . This is the idea behind the inertia metric. Inertia is the sum of the squared distances between each training instance and its closest centroid: Intuitively, inertia tells how far away the points within a cluster are. Therefore, a small of inertia is aimed for. The range of inertia’s value starts from zero and goes up."
      ]
    },
    {
      "cell_type": "code",
      "metadata": {
        "id": "6nx0tDhCMI3O",
        "colab_type": "code",
        "colab": {}
      },
      "source": [
        "from sklearn.cluster import KMeans\n",
        "kmeans_per_k = [KMeans(n_clusters=k, random_state=42).fit(d2_X_train)\n",
        "                for k in range(1, 15)]\n",
        "inertias = [model.inertia_ for model in kmeans_per_k]"
      ],
      "execution_count": 0,
      "outputs": []
    },
    {
      "cell_type": "code",
      "metadata": {
        "id": "q1dmJoZYMelS",
        "colab_type": "code",
        "outputId": "6d714653-2e69-43de-e0f8-3c9c0ae945c6",
        "colab": {
          "base_uri": "https://localhost:8080/",
          "height": 258
        }
      },
      "source": [
        "inertias"
      ],
      "execution_count": 0,
      "outputs": [
        {
          "output_type": "execute_result",
          "data": {
            "text/plain": [
              "[266145742269.8958,\n",
              " 210227913258.5017,\n",
              " 179902121080.95123,\n",
              " 162902317417.76633,\n",
              " 152978184720.74774,\n",
              " 143226836111.02786,\n",
              " 136511763616.59668,\n",
              " 131850619826.63737,\n",
              " 127657799088.01968,\n",
              " 123980093641.66411,\n",
              " 120825767822.00015,\n",
              " 117713019517.20345,\n",
              " 115109756672.49347,\n",
              " 112951416116.64557]"
            ]
          },
          "metadata": {
            "tags": []
          },
          "execution_count": 27
        }
      ]
    },
    {
      "cell_type": "code",
      "metadata": {
        "id": "1sD1wx_odJuj",
        "colab_type": "code",
        "outputId": "fa5f668c-aa1a-4071-f81a-b596b67381a4",
        "colab": {
          "base_uri": "https://localhost:8080/",
          "height": 313
        }
      },
      "source": [
        "from sklearn.cluster import KMeans\n",
        "K = range(1, 15)\n",
        "meandistortions = []\n",
        "inertia= []\n",
        "for k in K:\n",
        "    kmeans = KMeans(n_clusters=k,init='k-means++', random_state=0)\n",
        "    kmeans.fit(d2_X_train)\n",
        "\n",
        "    inertia.append(kmeans.inertia_)\n",
        "\n",
        "plt.plot(K, inertia, 'bx-')\n",
        "plt.xlabel('k')\n",
        "plt.ylabel('inertia')\n",
        "plt.title('best K of the model');"
      ],
      "execution_count": 0,
      "outputs": [
        {
          "output_type": "display_data",
          "data": {
            "image/png": "[encoded data removed]",
            "text/plain": [
              "<Figure size 432x288 with 1 Axes>"
            ]
          },
          "metadata": {
            "tags": [],
            "needs_background": "light"
          }
        }
      ]
    },
    {
      "cell_type": "markdown",
      "metadata": {
        "id": "snWyzQQWhCDM",
        "colab_type": "text"
      },
      "source": [
        "\n",
        "Elbow method says that you can find K where there is an elbow here before elbow error gradually decreases and after elbow the decrease isn’t significant, as you can see in the graph here, inertias goes down significantly as the K goes bigger. But it's hard to tell how much bigger the K needs to go. As the K-means show in the above graph, the inertia is pretty much close to the X- ."
      ]
    },
    {
      "cell_type": "code",
      "metadata": {
        "id": "V3S5OM0kspP3",
        "colab_type": "code",
        "outputId": "8408ab6d-5eaf-447d-cbc9-c39aaa956583",
        "colab": {
          "base_uri": "https://localhost:8080/",
          "height": 34
        }
      },
      "source": [
        "#here we assumed K=15 first here\n",
        "k = 15\n",
        "kmeans = KMeans(n_clusters=k, random_state=42)\n",
        "y_pred = kmeans.fit_predict(d2_X_train)\n",
        "y_pred"
      ],
      "execution_count": 0,
      "outputs": [
        {
          "output_type": "execute_result",
          "data": {
            "text/plain": [
              "array([ 8, 12,  1, ...,  3,  1, 10], dtype=int32)"
            ]
          },
          "metadata": {
            "tags": []
          },
          "execution_count": 30
        }
      ]
    },
    {
      "cell_type": "code",
      "metadata": {
        "id": "_OKh2JmstUu4",
        "colab_type": "code",
        "outputId": "28d8a987-ac4e-47af-add5-d192737eb088",
        "colab": {
          "base_uri": "https://localhost:8080/",
          "height": 34
        }
      },
      "source": [
        "y_pred is kmeans.labels_"
      ],
      "execution_count": 0,
      "outputs": [
        {
          "output_type": "execute_result",
          "data": {
            "text/plain": [
              "True"
            ]
          },
          "metadata": {
            "tags": []
          },
          "execution_count": 31
        }
      ]
    },
    {
      "cell_type": "markdown",
      "metadata": {
        "id": "DRbO9oAGtj_b",
        "colab_type": "text"
      },
      "source": [
        "We following 15 centroids cluster center estimated here:-"
      ]
    },
    {
      "cell_type": "code",
      "metadata": {
        "id": "DMMiS65Fti8k",
        "colab_type": "code",
        "outputId": "24006580-ca4a-4186-ddbe-36b858b20207",
        "colab": {
          "base_uri": "https://localhost:8080/",
          "height": 237
        }
      },
      "source": [
        "kmeans.cluster_centers_"
      ],
      "execution_count": 0,
      "outputs": [
        {
          "output_type": "execute_result",
          "data": {
            "text/plain": [
              "array([[ 3.57786717e-17,  2.56718813e-02,  8.26313678e-02, ...,\n",
              "         8.92980345e+00,  3.85960690e+00,  5.03008424e-01],\n",
              "       [ 2.16483686e-03,  4.94819855e-03,  3.15447657e-02, ...,\n",
              "         8.42121540e-01,  2.48183083e-01,  1.93289006e-02],\n",
              "       [ 3.79794911e-04,  6.83630839e-03,  2.73452336e-02, ...,\n",
              "         8.60805165e+00,  3.57424991e+00,  1.68249145e-01],\n",
              "       ...,\n",
              "       [ 2.58732212e-03,  1.91461837e-02,  1.49029754e-01, ...,\n",
              "         7.01164295e-02,  1.39715395e-02,  3.10478655e-03],\n",
              "       [ 5.18248638e-17,  2.78164117e-04, -7.32053307e-16, ...,\n",
              "         2.53129346e-02,  3.89429764e-03,  3.89429764e-03],\n",
              "       [ 1.33049494e-03,  1.49015434e-02,  9.26024481e-02, ...,\n",
              "         1.48863757e+01,  2.29563598e+00,  1.57264502e-01]])"
            ]
          },
          "metadata": {
            "tags": []
          },
          "execution_count": 32
        }
      ]
    },
    {
      "cell_type": "code",
      "metadata": {
        "id": "S_mqeVU0uIdz",
        "colab_type": "code",
        "outputId": "110d216c-e94a-4069-b9ae-d5bafe09f594",
        "colab": {
          "base_uri": "https://localhost:8080/",
          "height": 34
        }
      },
      "source": [
        "kmeans.inertia_"
      ],
      "execution_count": 0,
      "outputs": [
        {
          "output_type": "execute_result",
          "data": {
            "text/plain": [
              "111250075327.65587"
            ]
          },
          "metadata": {
            "tags": []
          },
          "execution_count": 33
        }
      ]
    },
    {
      "cell_type": "code",
      "metadata": {
        "id": "tBnfW6cDuZwe",
        "colab_type": "code",
        "outputId": "fb2c0a95-15d5-4f27-9a64-dca5fb7e31d3",
        "colab": {
          "base_uri": "https://localhost:8080/",
          "height": 34
        }
      },
      "source": [
        "X_dist = kmeans.transform(d2_X_train)\n",
        "np.sum(X_dist[np.arange(len(X_dist)), kmeans.labels_]**2)"
      ],
      "execution_count": 0,
      "outputs": [
        {
          "output_type": "execute_result",
          "data": {
            "text/plain": [
              "111250075327.65582"
            ]
          },
          "metadata": {
            "tags": []
          },
          "execution_count": 34
        }
      ]
    },
    {
      "cell_type": "markdown",
      "metadata": {
        "id": "O4n4hBLtjzos",
        "colab_type": "text"
      },
      "source": [
        "**Inertia is the sum of squares for all dataset points to their closest centroid**"
      ]
    },
    {
      "cell_type": "markdown",
      "metadata": {
        "id": "xmU5sfBDPLt4",
        "colab_type": "text"
      },
      "source": [
        "###**Silhouette Score**\n",
        "Silhouette score tells how far away the datapoints in one cluster are, from the datapoints in another cluster. The range of silhouette score is from -1 to 1. Score should be closer to 1 than -1.\n",
        "\n",
        "Let's plot the silhouette score as a function of k :-"
      ]
    },
    {
      "cell_type": "code",
      "metadata": {
        "id": "QPr1xE0oPZYn",
        "colab_type": "code",
        "colab": {}
      },
      "source": [
        "from sklearn.metrics import silhouette_score\n",
        "silhouette_scores = [silhouette_score(d2_X_train, model.labels_)\n",
        "                     for model in kmeans_per_k[1:]]"
      ],
      "execution_count": 0,
      "outputs": []
    },
    {
      "cell_type": "code",
      "metadata": {
        "id": "r0_CAn2DbQ46",
        "colab_type": "code",
        "outputId": "a648ac34-6cc6-437f-c27f-417e448cdcd9",
        "colab": {
          "base_uri": "https://localhost:8080/",
          "height": 237
        }
      },
      "source": [
        "silhouette_scores"
      ],
      "execution_count": 0,
      "outputs": [
        {
          "output_type": "execute_result",
          "data": {
            "text/plain": [
              "[0.19292353740440155,\n",
              " 0.1868631541189012,\n",
              " 0.18034836892941103,\n",
              " 0.16157394858536603,\n",
              " 0.15622240618672606,\n",
              " 0.16538973599142445,\n",
              " 0.15433385392127688,\n",
              " 0.15707003166825867,\n",
              " 0.15490771631045844,\n",
              " 0.14176947734258036,\n",
              " 0.1378153276793143,\n",
              " 0.13151804043796553,\n",
              " 0.1303538193753024]"
            ]
          },
          "metadata": {
            "tags": []
          },
          "execution_count": 20
        }
      ]
    },
    {
      "cell_type": "markdown",
      "metadata": {
        "id": "M8ti-5dYkIL0",
        "colab_type": "text"
      },
      "source": [
        "**informative visualization is given when you plot every instance's silhouette coefficient, sorted by the cluster they are assigned to and by the value of the coefficient. This is called a silhouette diagram here**"
      ]
    },
    {
      "cell_type": "code",
      "metadata": {
        "id": "pJxdDauKP5CP",
        "colab_type": "code",
        "outputId": "29871c65-03a2-4489-9407-5797aa262491",
        "colab": {
          "base_uri": "https://localhost:8080/",
          "height": 577
        }
      },
      "source": [
        "from sklearn.metrics import silhouette_samples\n",
        "from matplotlib.ticker import FixedLocator, FixedFormatter\n",
        "\n",
        "plt.figure(figsize=(11, 9))\n",
        "\n",
        "for k in (2, 3, 4, 5):\n",
        "    plt.subplot(2, 2, k - 1)\n",
        "    \n",
        "    y_pred = kmeans_per_k[k - 0].labels_\n",
        "    silhouette_coefficients = silhouette_samples(d2_X_train, y_pred)\n",
        "\n",
        "    padding = len(d2_X_train) // 30\n",
        "    pos = padding\n",
        "    ticks = []\n",
        "    for i in range(k):\n",
        "        coeffs = silhouette_coefficients[y_pred == i]\n",
        "        coeffs.sort()\n",
        "\n",
        "        color = mpl.cm.Spectral(i / k)\n",
        "        plt.fill_betweenx(np.arange(pos, pos + len(coeffs)), 0, coeffs,\n",
        "                          facecolor=color, edgecolor=color, alpha=0.7)\n",
        "        ticks.append(pos + len(coeffs) // 2)\n",
        "        pos += len(coeffs) + padding\n",
        "\n",
        "    plt.gca().yaxis.set_major_locator(FixedLocator(ticks))\n",
        "    plt.gca().yaxis.set_major_formatter(FixedFormatter(range(k)))\n",
        "    if k in (3, 4):\n",
        "        plt.ylabel(\"Cluster\")\n",
        "    \n",
        "    if k in (4, 5):\n",
        "        plt.gca().set_xticks([-0.1, 0, 0.2, 0.4, 0.6, 0.8, 1])\n",
        "        plt.xlabel(\"Silhouette Coefficient\")\n",
        "    else:\n",
        "        plt.tick_params(labelbottom=False)\n",
        "\n",
        "    plt.axvline(x=silhouette_scores[k - 1], color=\"red\", linestyle=\"--\")\n",
        "    plt.title(\"$k={}$\".format(k), fontsize=16)\n",
        "\n",
        "plt.show()"
      ],
      "execution_count": 0,
      "outputs": [
        {
          "output_type": "display_data",
          "data": {
            "image/png": "[encoded data removed]",
            "text/plain": [
              "<Figure size 792x648 with 4 Axes>"
            ]
          },
          "metadata": {
            "tags": []
          }
        }
      ]
    },
    {
      "cell_type": "markdown",
      "metadata": {
        "id": "05KdyKB9lj51",
        "colab_type": "text"
      },
      "source": [
        "Here is the chart shows that K=2 which is the highest values of silhoute score and the best k is 2 "
      ]
    },
    {
      "cell_type": "markdown",
      "metadata": {
        "id": "jyEV6X77xCkg",
        "colab_type": "text"
      },
      "source": [
        "# **Train a Classifier**\n",
        "\n",
        "**3) Train a classifier to determine which object is represented in each image and evaluate it on the validation set.**\n",
        "\n",
        "### **Random Forest Classifier**\n"
      ]
    },
    {
      "cell_type": "code",
      "metadata": {
        "id": "9TxQBcE3xpeG",
        "colab_type": "code",
        "outputId": "62bdddc6-1aae-4cd6-ac8b-9cba18087f3a",
        "colab": {
          "base_uri": "https://localhost:8080/",
          "height": 34
        }
      },
      "source": [
        "from sklearn.ensemble import RandomForestClassifier\n",
        "clf = RandomForestClassifier(n_estimators=150, random_state=42)\n",
        "clf.fit(d2_X_train, y_train)\n",
        "clf.score(d2_X_test, y_test)"
      ],
      "execution_count": 0,
      "outputs": [
        {
          "output_type": "execute_result",
          "data": {
            "text/plain": [
              "0.8781"
            ]
          },
          "metadata": {
            "tags": []
          },
          "execution_count": 46
        }
      ]
    },
    {
      "cell_type": "markdown",
      "metadata": {
        "id": "YIrDrPFKl_Ax",
        "colab_type": "text"
      },
      "source": [
        "here is Without the dimensionality reduction accuracy is 87.81"
      ]
    },
    {
      "cell_type": "markdown",
      "metadata": {
        "id": "Id-uQznmunfx",
        "colab_type": "text"
      },
      "source": [
        "# Using K-mean Clustering as Dimension Reduction for Classification\n",
        "\n",
        "**4) Use K-Means as a dimensionality reduction tool and train a classifier on the reduced set. Search for the number of clusters that provides the best performance.**"
      ]
    },
    {
      "cell_type": "code",
      "metadata": {
        "id": "VKuYqz5afQl1",
        "colab_type": "code",
        "outputId": "fc97fb30-b75f-457d-c3cf-c535b1b44b5d",
        "colab": {
          "base_uri": "https://localhost:8080/",
          "height": 34
        }
      },
      "source": [
        "from sklearn.pipeline import Pipeline\n",
        "pipeline = Pipeline([\n",
        "    (\"kmeans\", KMeans(n_clusters=15, random_state=42)),\n",
        "    (\"clf\", RandomForestClassifier(n_estimators=150, random_state=42)),\n",
        "])\n",
        "pipeline.fit(d2_X_train, y_train)\n",
        "pipeline.score(d2_X_test, y_test)"
      ],
      "execution_count": 0,
      "outputs": [
        {
          "output_type": "execute_result",
          "data": {
            "text/plain": [
              "0.7839"
            ]
          },
          "metadata": {
            "tags": []
          },
          "execution_count": 47
        }
      ]
    },
    {
      "cell_type": "markdown",
      "metadata": {
        "id": "y3j_NYKOaDh7",
        "colab_type": "text"
      },
      "source": [
        "here with the cluster = 15, the accuracy actually decreased instead of improving, since this cluster number is arbitary . Here let's we try to find the best k, when the accuracy score increased .and it takes almost half day for this."
      ]
    },
    {
      "cell_type": "code",
      "metadata": {
        "id": "fmVKXwsn60FE",
        "colab_type": "code",
        "outputId": "25060b0e-e036-4910-fd93-0bad1193649a",
        "colab": {
          "base_uri": "https://localhost:8080/",
          "height": 34
        }
      },
      "source": [
        "grid_clf.best_params_"
      ],
      "execution_count": 0,
      "outputs": [
        {
          "output_type": "execute_result",
          "data": {
            "text/plain": [
              "{'kmeans__n_clusters': 95}"
            ]
          },
          "metadata": {
            "tags": []
          },
          "execution_count": 43
        }
      ]
    },
    {
      "cell_type": "code",
      "metadata": {
        "id": "loQarSPK64sJ",
        "colab_type": "code",
        "outputId": "c681236b-3e4e-4fbc-b38a-623e2dd3486f",
        "colab": {
          "base_uri": "https://localhost:8080/",
          "height": 34
        }
      },
      "source": [
        "grid_clf.score(d2_X_test, y_test)"
      ],
      "execution_count": 0,
      "outputs": [
        {
          "output_type": "execute_result",
          "data": {
            "text/plain": [
              "0.8138"
            ]
          },
          "metadata": {
            "tags": []
          },
          "execution_count": 44
        }
      ]
    },
    {
      "cell_type": "markdown",
      "metadata": {
        "id": "6pBiAC0i7eTk",
        "colab_type": "text"
      },
      "source": [
        "after the 27 runs ,from 10-100, the best value is 95, the accuracy still lower than the orginial set (reduced from 87.81% to 81.38%. Now we are testing using K-mean (k=95) as a dimension reduction tool."
      ]
    },
    {
      "cell_type": "code",
      "metadata": {
        "id": "ZzDZOXknURF3",
        "colab_type": "code",
        "colab": {}
      },
      "source": [
        "best_model = KMeans(n_clusters=95, random_state=42).fit(d2_X_train)\n",
        "X_train_reduced = best_model.transform(d2_X_train)\n",
        "X_test_reduced = best_model.transform(d2_X_test)"
      ],
      "execution_count": 0,
      "outputs": []
    },
    {
      "cell_type": "code",
      "metadata": {
        "id": "o7kZgqONUrki",
        "colab_type": "code",
        "outputId": "1913c3f0-3f97-4ebe-c589-29125572437a",
        "colab": {
          "base_uri": "https://localhost:8080/",
          "height": 34
        }
      },
      "source": [
        "clf = RandomForestClassifier(n_estimators=150, random_state=42)\n",
        "clf.fit(X_train_reduced, y_train)\n",
        "    \n",
        "clf.score(X_test_reduced, y_test)"
      ],
      "execution_count": 0,
      "outputs": [
        {
          "output_type": "execute_result",
          "data": {
            "text/plain": [
              "0.8112"
            ]
          },
          "metadata": {
            "tags": []
          },
          "execution_count": 51
        }
      ]
    },
    {
      "cell_type": "markdown",
      "metadata": {
        "id": "_i5QLiVKfoBA",
        "colab_type": "text"
      },
      "source": [
        "# Gaussian Mixture Model Test\n",
        "**5) Train a Gaussian mixture model on each dataset. To speed up the algorithm, use PCA dimensionality reduction (99% variataion).**\n",
        "\n",
        "\n"
      ]
    },
    {
      "cell_type": "markdown",
      "metadata": {
        "id": "EI6tZPwryyuE",
        "colab_type": "text"
      },
      "source": [
        "let's we use the t-SNE to reduce dimensionality down to 2 dimension so we can plot the dataset. Current dimension is 784. And use PCA to speeddup the t-SNE. now as a  previous projects and study, we know that the best dimension reduction technique to work with t-SNE is PCA. let's do this. "
      ]
    },
    {
      "cell_type": "code",
      "metadata": {
        "id": "bBtjP7eUgTdN",
        "colab_type": "code",
        "colab": {}
      },
      "source": [
        "from sklearn.preprocessing import MinMaxScaler\n",
        "from matplotlib.offsetbox import AnnotationBbox, OffsetImage\n",
        "\n",
        "def plot_digits(X, y, min_distance=0.05, images=None, figsize=(13, 10)):\n",
        "    # Let's scale the input features so that they range from 0 to 1\n",
        "    X_normalized = MinMaxScaler().fit_transform(X)\n",
        "    # Now we create the list of coordinates of the digits plotted so far.\n",
        "    # We pretend that one is already plotted far away at the start, to\n",
        "    # avoid `if` statements in the loop below\n",
        "    neighbors = np.array([[10., 10.]])\n",
        "    # The rest should be self-explanatory\n",
        "    plt.figure(figsize=figsize)\n",
        "    cmap = mpl.cm.get_cmap(\"jet\")\n",
        "    digits = np.unique(y)\n",
        "    for digit in digits:\n",
        "        plt.scatter(X_normalized[y == digit, 0], X_normalized[y == digit, 1], c=[cmap(digit / 9)])\n",
        "    plt.axis(\"off\")\n",
        "    ax = plt.gcf().gca()  # get current axes in current figure\n",
        "    for index, image_coord in enumerate(X_normalized):\n",
        "        closest_distance = np.linalg.norm(np.array(neighbors) - image_coord, axis=1).min()\n",
        "        if closest_distance > min_distance:\n",
        "            neighbors = np.r_[neighbors, [image_coord]]\n",
        "            if images is None:\n",
        "                plt.text(image_coord[0], image_coord[1], str(int(y[index])),\n",
        "                         color=cmap(y[index] / 9), fontdict={\"weight\": \"bold\", \"size\": 16})\n",
        "            else:\n",
        "                image = images[index].reshape(28, 28)\n",
        "                imagebox = AnnotationBbox(OffsetImage(image, cmap=\"binary\"), image_coord)\n",
        "                ax.add_artist(imagebox)"
      ],
      "execution_count": 0,
      "outputs": []
    },
    {
      "cell_type": "code",
      "metadata": {
        "id": "rAb0gjkIxmcl",
        "colab_type": "code",
        "outputId": "49210ad8-0206-49ef-883d-01b53007439a",
        "colab": {
          "base_uri": "https://localhost:8080/",
          "height": 34
        }
      },
      "source": [
        "from sklearn.manifold import TSNE \n",
        "from sklearn.pipeline import Pipeline\n",
        "pca_tsne = Pipeline([\n",
        "    (\"pca\", PCA(n_components=0.99, random_state=42)),\n",
        "    (\"tsne\", TSNE(n_components=2, random_state=42)),\n",
        "])\n",
        "t0 = time.time()\n",
        "X_pca_tsne_reduced = pca_tsne.fit_transform(d2_X_train)\n",
        "t1 = time.time()\n",
        "print(\"PCA+t-SNE took {:.1f}s.\".format(t1 - t0))"
      ],
      "execution_count": 0,
      "outputs": [
        {
          "output_type": "stream",
          "text": [
            "PCA+t-SNE took 1919.0s.\n"
          ],
          "name": "stdout"
        }
      ]
    },
    {
      "cell_type": "code",
      "metadata": {
        "id": "kQHZZoL1xvCu",
        "colab_type": "code",
        "outputId": "378f5934-b44b-4609-9ea7-39196902f5de",
        "colab": {
          "base_uri": "https://localhost:8080/",
          "height": 575
        }
      },
      "source": [
        "plot_digits(X_pca_tsne_reduced, y_train)\n",
        "plt.show()"
      ],
      "execution_count": 0,
      "outputs": [
        {
          "output_type": "display_data",
          "data": {
            "image/png": "[encoded data removed]",
            "text/plain": [
              "<Figure size 936x720 with 1 Axes>"
            ]
          },
          "metadata": {
            "tags": []
          }
        }
      ]
    },
    {
      "cell_type": "markdown",
      "metadata": {
        "id": "t1LO9XtV01TS",
        "colab_type": "text"
      },
      "source": [
        "####**Train Gaussian Mixture Model.**\n",
        " 1. use the PCA & t-SNE reduced data "
      ]
    },
    {
      "cell_type": "code",
      "metadata": {
        "id": "3jIG9KAK_vHT",
        "colab_type": "code",
        "outputId": "f71701a7-b94a-4c8b-cc9c-502ee98019e3",
        "colab": {
          "base_uri": "https://localhost:8080/",
          "height": 694
        }
      },
      "source": [
        "from sklearn.mixture import GaussianMixture\n",
        "\n",
        "gm = GaussianMixture(n_components=40, random_state=42)\n",
        "y_pred = gm.fit_predict(X_pca_tsne_reduced)\n",
        "gm.means_"
      ],
      "execution_count": 0,
      "outputs": [
        {
          "output_type": "execute_result",
          "data": {
            "text/plain": [
              "array([[ 31.75862494,  15.81733366],\n",
              "       [-42.17635255,   1.05846369],\n",
              "       [ -4.27526772, -39.37809547],\n",
              "       [ 17.91453679, -21.02909121],\n",
              "       [ -4.56829834,  18.06787714],\n",
              "       [-38.09813338, -14.5488513 ],\n",
              "       [-10.83842367,  44.00511602],\n",
              "       [ 43.1727019 , -19.18143192],\n",
              "       [-30.82792231,  32.43274247],\n",
              "       [ 10.28102702,  38.52504929],\n",
              "       [-11.27178402,   2.3921657 ],\n",
              "       [ 21.63363361, -31.46548308],\n",
              "       [ 46.83173212,  11.82230117],\n",
              "       [-17.10278254, -47.96510235],\n",
              "       [  7.47607823,   7.60841867],\n",
              "       [ 20.29849367,  11.32052242],\n",
              "       [  0.26042886,  -9.32809149],\n",
              "       [ 12.0987852 , -38.36344761],\n",
              "       [ 22.14225224,  42.63867654],\n",
              "       [-19.04834367,  16.73593901],\n",
              "       [-12.93897323, -33.41295747],\n",
              "       [-52.16908411,   3.92408426],\n",
              "       [  2.58758427, -23.77344219],\n",
              "       [ 21.40097649,  29.26816177],\n",
              "       [  9.50915057,  19.65967578],\n",
              "       [-48.97724996, -14.21792724],\n",
              "       [-26.07060676, -15.7789976 ],\n",
              "       [ -0.39750805, -49.65167677],\n",
              "       [ 32.63615228, -11.19427137],\n",
              "       [-30.47587315,  16.63317716],\n",
              "       [-14.93838575,  28.29567424],\n",
              "       [-24.69314482, -31.10061011],\n",
              "       [ 34.57353066,   1.53838321],\n",
              "       [ 48.01244193,  -2.53054278],\n",
              "       [ 38.48136047,  26.41391347],\n",
              "       [ -0.80133846,  51.54761215],\n",
              "       [-45.54305341,  17.25120979],\n",
              "       [-23.37604872,   0.76359988],\n",
              "       [ 13.54899717,  -8.58611439],\n",
              "       [-14.40166701, -15.06623984]])"
            ]
          },
          "metadata": {
            "tags": []
          },
          "execution_count": 76
        }
      ]
    },
    {
      "cell_type": "code",
      "metadata": {
        "id": "bB8yU8nyBu71",
        "colab_type": "code",
        "outputId": "78710002-519c-4cad-f278-dc75a126d058",
        "colab": {
          "base_uri": "https://localhost:8080/",
          "height": 152
        }
      },
      "source": [
        "gm.weights_"
      ],
      "execution_count": 0,
      "outputs": [
        {
          "output_type": "execute_result",
          "data": {
            "text/plain": [
              "array([0.02563781, 0.01429786, 0.02173165, 0.0254394 , 0.03136597,\n",
              "       0.01571453, 0.03213259, 0.03282797, 0.03092815, 0.02738807,\n",
              "       0.03578401, 0.02341818, 0.02821133, 0.02985574, 0.02166419,\n",
              "       0.0322457 , 0.02197547, 0.02550795, 0.02008737, 0.02596266,\n",
              "       0.02650886, 0.02792922, 0.02842026, 0.01603377, 0.02353761,\n",
              "       0.02263096, 0.01850913, 0.025142  , 0.0306688 , 0.02792134,\n",
              "       0.02362033, 0.020777  , 0.02458294, 0.01624383, 0.02262998,\n",
              "       0.01883136, 0.01259152, 0.03289951, 0.03549452, 0.02285047])"
            ]
          },
          "metadata": {
            "tags": []
          },
          "execution_count": 77
        }
      ]
    },
    {
      "cell_type": "code",
      "metadata": {
        "id": "txr88rBTBwyT",
        "colab_type": "code",
        "outputId": "e64d20da-a920-4fda-ed3a-773c9c008ab0",
        "colab": {
          "base_uri": "https://localhost:8080/",
          "height": 1000
        }
      },
      "source": [
        "gm.covariances_"
      ],
      "execution_count": 0,
      "outputs": [
        {
          "output_type": "execute_result",
          "data": {
            "text/plain": [
              "array([[[ 27.10675848,  -8.45486613],\n",
              "        [ -8.45486613,  30.80468568]],\n",
              "\n",
              "       [[  7.32589813,  -8.41062085],\n",
              "        [ -8.41062085,  33.87521107]],\n",
              "\n",
              "       [[ 21.68664303,   5.99553577],\n",
              "        [  5.99553577,  24.3387885 ]],\n",
              "\n",
              "       [[ 18.30344566,   4.82286364],\n",
              "        [  4.82286364,  25.44696661]],\n",
              "\n",
              "       [[ 16.93969325,   9.18564581],\n",
              "        [  9.18564581,  29.97797832]],\n",
              "\n",
              "       [[  4.90830876,  -4.23208738],\n",
              "        [ -4.23208738,  35.41837679]],\n",
              "\n",
              "       [[ 19.37124708,   2.18201572],\n",
              "        [  2.18201572,  21.96117286]],\n",
              "\n",
              "       [[ 32.86643575,   9.53445823],\n",
              "        [  9.53445823,  25.49103339]],\n",
              "\n",
              "       [[ 18.47305223,   7.63505733],\n",
              "        [  7.63505733,  33.3671019 ]],\n",
              "\n",
              "       [[ 13.84010359,   0.25898568],\n",
              "        [  0.25898568,  18.39547133]],\n",
              "\n",
              "       [[ 21.71696415,   4.21890264],\n",
              "        [  4.21890264,  42.17695396]],\n",
              "\n",
              "       [[ 11.06478091,   5.03958752],\n",
              "        [  5.03958752,  28.05440858]],\n",
              "\n",
              "       [[ 24.77483346,  -8.98670384],\n",
              "        [ -8.98670384,  25.19331263]],\n",
              "\n",
              "       [[ 27.45870219,  -7.862122  ],\n",
              "        [ -7.862122  ,  13.07214841]],\n",
              "\n",
              "       [[ 30.78966619,   1.9538328 ],\n",
              "        [  1.9538328 ,  15.03134985]],\n",
              "\n",
              "       [[ 21.10831534,  -1.43050523],\n",
              "        [ -1.43050523,  36.75932453]],\n",
              "\n",
              "       [[  7.39684606,   2.33200347],\n",
              "        [  2.33200347,  29.98762337]],\n",
              "\n",
              "       [[ 22.98379781,  -3.76169835],\n",
              "        [ -3.76169835,  17.51690279]],\n",
              "\n",
              "       [[ 49.29969884, -16.69419727],\n",
              "        [-16.69419727,   9.09096335]],\n",
              "\n",
              "       [[ 31.20659601,  -1.46383281],\n",
              "        [ -1.46383281,  32.80677125]],\n",
              "\n",
              "       [[ 20.9401312 ,   5.81853822],\n",
              "        [  5.81853822,  25.75842367]],\n",
              "\n",
              "       [[ 10.70101676,  -1.08112077],\n",
              "        [ -1.08112077,  26.07713675]],\n",
              "\n",
              "       [[ 32.47168098,  -0.73470161],\n",
              "        [ -0.73470161,  27.4929725 ]],\n",
              "\n",
              "       [[  8.04278268,  -1.62233088],\n",
              "        [ -1.62233088,   8.03267013]],\n",
              "\n",
              "       [[ 14.92295529,  -0.931302  ],\n",
              "        [ -0.931302  ,  20.38936161]],\n",
              "\n",
              "       [[ 13.9715598 ,  -7.96071081],\n",
              "        [ -7.96071081,  24.09572615]],\n",
              "\n",
              "       [[ 10.04374496,   0.50329628],\n",
              "        [  0.50329628,  13.62894721]],\n",
              "\n",
              "       [[ 47.23865988,   9.42001211],\n",
              "        [  9.42001211,   7.96814125]],\n",
              "\n",
              "       [[ 28.61872258,  -2.10177698],\n",
              "        [ -2.10177698,  26.15386867]],\n",
              "\n",
              "       [[ 24.2562176 ,   5.84141977],\n",
              "        [  5.84141977,  27.09250591]],\n",
              "\n",
              "       [[ 41.33802889,  -6.4940091 ],\n",
              "        [ -6.4940091 ,  14.31836711]],\n",
              "\n",
              "       [[ 35.04060743,  12.27963374],\n",
              "        [ 12.27963374,   9.08058273]],\n",
              "\n",
              "       [[ 31.353278  ,   2.52333509],\n",
              "        [  2.52333509,  20.23778253]],\n",
              "\n",
              "       [[ 14.01872259,  -1.6072381 ],\n",
              "        [ -1.6072381 ,  14.42905744]],\n",
              "\n",
              "       [[ 31.84379321,  -9.94707493],\n",
              "        [ -9.94707493,  16.05520386]],\n",
              "\n",
              "       [[ 18.50621405,  -2.57466506],\n",
              "        [ -2.57466506,   8.89811516]],\n",
              "\n",
              "       [[  8.28246614,  -6.79787112],\n",
              "        [ -6.79787112,  14.93056774]],\n",
              "\n",
              "       [[ 23.40453172,   5.20537737],\n",
              "        [  5.20537737,  20.50174529]],\n",
              "\n",
              "       [[ 25.82424216,   3.7477118 ],\n",
              "        [  3.7477118 ,  22.44390223]],\n",
              "\n",
              "       [[ 20.23708122,   2.45203221],\n",
              "        [  2.45203221,   9.82212356]]])"
            ]
          },
          "metadata": {
            "tags": []
          },
          "execution_count": 78
        }
      ]
    },
    {
      "cell_type": "code",
      "metadata": {
        "id": "l7Dxwld5BzpP",
        "colab_type": "code",
        "outputId": "326dc27c-199b-4383-b022-b802c6d2dcf9",
        "colab": {
          "base_uri": "https://localhost:8080/",
          "height": 34
        }
      },
      "source": [
        "gm.converged_"
      ],
      "execution_count": 0,
      "outputs": [
        {
          "output_type": "execute_result",
          "data": {
            "text/plain": [
              "True"
            ]
          },
          "metadata": {
            "tags": []
          },
          "execution_count": 79
        }
      ]
    },
    {
      "cell_type": "code",
      "metadata": {
        "id": "ZQn832s4B0I3",
        "colab_type": "code",
        "outputId": "a98a8fc0-99c6-476f-e843-28d81953fb33",
        "colab": {
          "base_uri": "https://localhost:8080/",
          "height": 34
        }
      },
      "source": [
        "gm.n_iter_"
      ],
      "execution_count": 0,
      "outputs": [
        {
          "output_type": "execute_result",
          "data": {
            "text/plain": [
              "9"
            ]
          },
          "metadata": {
            "tags": []
          },
          "execution_count": 80
        }
      ]
    },
    {
      "cell_type": "markdown",
      "metadata": {
        "id": "Wd1JlX8Q9zyr",
        "colab_type": "text"
      },
      "source": [
        "**6) Graph results of your experiments for the different data sets and provide a qualitative assessment and detailed discussion of the achieved results.**"
      ]
    },
    {
      "cell_type": "code",
      "metadata": {
        "id": "pz9v9nJl28iA",
        "colab_type": "code",
        "outputId": "8e7dce14-f170-4b7f-c293-6a02a5a2ae0a",
        "colab": {
          "base_uri": "https://localhost:8080/",
          "height": 276
        }
      },
      "source": [
        "names = ['Origin', 'K-means as dimensional reduction', 'Reduced dimension using PCA', 'tuned number of clusters']\n",
        "values = [0.9635, 0.9374, 0.1502, 0.8754 ]\n",
        "plt.bar(names, values)\n",
        "plt.rc('xtick', labelsize=7)\n",
        "plt.ylim(0,1.5)\n",
        "plt.ylabel(\"classifier Score\")\n",
        "plt.title(\"Randomforestclassifier on MNIST dataset\", color = \"red\", fontsize = \"large\")\n",
        "plt.show()"
      ],
      "execution_count": 0,
      "outputs": [
        {
          "output_type": "display_data",
          "data": {
            "image/png": "[encoded data removed]",
            "text/plain": [
              "<Figure size 432x288 with 1 Axes>"
            ]
          },
          "metadata": {
            "tags": [],
            "needs_background": "light"
          }
        }
      ]
    },
    {
      "cell_type": "code",
      "metadata": {
        "id": "0hcYJKlBfXLP",
        "colab_type": "code",
        "outputId": "f81667cc-dfeb-4e13-99ca-1e073a8568bf",
        "colab": {
          "base_uri": "https://localhost:8080/",
          "height": 280
        }
      },
      "source": [
        "names = ['Origin', 'K-means(k=15)', 'K-means best K(K=95)']\n",
        "values = [0.8781, 0.7839, 0.8138]\n",
        "plt.bar(names, values)\n",
        "plt.rc('xtick', labelsize=6)\n",
        "plt.ylim(0.78,0.87)\n",
        "plt.ylabel(\"Accuracy Score\")\n",
        "plt.title(\"Kmeans\", color = \"orange\", fontsize = \"xx-large\")\n",
        "plt.show()"
      ],
      "execution_count": 0,
      "outputs": [
        {
          "output_type": "display_data",
          "data": {
            "image/png": "[encoded data removed]",
            "text/plain": [
              "<Figure size 432x288 with 1 Axes>"
            ]
          },
          "metadata": {
            "tags": [],
            "needs_background": "light"
          }
        }
      ]
    },
    {
      "cell_type": "code",
      "metadata": {
        "id": "0eSMn3qpfmGy",
        "colab_type": "code",
        "outputId": "62ea75ba-7f54-4c53-d0b2-2732c5e8dfa0",
        "colab": {
          "base_uri": "https://localhost:8080/",
          "height": 285
        }
      },
      "source": [
        "names = ['K-means(K=15)', 'K-means with best K (K = 95)']\n",
        "values = [0.7839, 0.8138]\n",
        "plt.bar(names, values)\n",
        "plt.rc('xtick', labelsize = 25)\n",
        "plt.ylim(0.78,0.81)\n",
        "plt.ylabel(\"Accuracy Score\")\n",
        "plt.title(\"Accuracy Of Random Forest\", color = \"red\", fontsize = \"xx-large\")\n",
        "plt.show()"
      ],
      "execution_count": 0,
      "outputs": [
        {
          "output_type": "display_data",
          "data": {
            "image/png": "[encoded data removed]",
            "text/plain": [
              "<Figure size 432x288 with 1 Axes>"
            ]
          },
          "metadata": {
            "tags": [],
            "needs_background": "light"
          }
        }
      ]
    },
    {
      "cell_type": "markdown",
      "metadata": {
        "id": "32Htx0lEzvlL",
        "colab_type": "text"
      },
      "source": [
        "#Report"
      ]
    },
    {
      "cell_type": "markdown",
      "metadata": {
        "id": "cSGhJrdbzdc1",
        "colab_type": "text"
      },
      "source": [
        "**For MNIST dataset**\n",
        "Without using PCA dimensional reduction, We got the 96. This is Not bad Score. When we used Random forest on reduced dimensions we got score of 94. But we can see how it will effect if we use Kmeans as dimension reduction.\n",
        "\n",
        "When We used K-means as dimensional reduction tool on MNIST dataset.\n",
        "We got very bad score 15 after used K-means as a dimensionality reduction tool for Random forest classifier.\n",
        "\n",
        "When used number of clusters:\n",
        "By using the number of clusters, we got beyond 85% accuracy. Looks like the distances to the cluster centroids are bit useful.\n",
        "\n",
        "So it is better to use Random forest without applying the dimensional reduction(PCA). Or With Using PCA with Variance 99% will yeild good score for randomforest classifier on MNIST dataset.\n",
        "\n",
        "The clusters are not that useful to directly train a classifier in this dataset.\n",
        "\n",
        "**Fashion Mnist***\n",
        "In this Dataset we use Fashion MNIST dataset with Random Forest Classifier.and the accuracy is 87.81 without dimensionality reduction after that implement the k-means algorithm dimensional reduction techniques and With the cluster = 15, after this method accuracy is (K=15):- 0.7839 .and the cluster number is arbitary here, after the 27 runs ,from 10-100, the best value is 95, the accuracy still lower than the orginial set (reduced from 87.81% to 81.38%. Now we are testing using K-mean (k=95) as a dimension reduction tool.. . The accuracy not increased it's still 81.38 .we use the t-SNE to reduce dimensionality down to 2 dimension so we can plot the dataset. t-sne which is best dimensionality reduction method and then applied test and train gaussian model and show the accuraccy in graph."
      ]
    },
    {
      "cell_type": "markdown",
      "metadata": {
        "id": "N36Se4ONQZ1u",
        "colab_type": "text"
      },
      "source": [
        "# **References:**\n",
        "\n",
        "[https://towardsdatascience.com/k-means-clustering-from-a-to-z-f6242a314e9a](https://)\n",
        "\n",
        "[https://towardsdatascience.com/k-means-clustering-algorithm-applications-evaluation-methods-and-drawbacks-aa03e644b48a](https://)\n",
        "\n",
        "[https://nbviewer.jupyter.org/github/ageron/handson-ml2/blob/master/09_unsupervised_learning.ipynb](https://)\n",
        "\n"
      ]
    }
  ]
}